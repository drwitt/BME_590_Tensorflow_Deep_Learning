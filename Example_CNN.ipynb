{
  "nbformat": 4,
  "nbformat_minor": 0,
  "metadata": {
    "colab": {
      "name": "Example CNN.ipynb",
      "version": "0.3.2",
      "provenance": [],
      "include_colab_link": true
    },
    "kernelspec": {
      "name": "python3",
      "display_name": "Python 3"
    }
  },
  "cells": [
    {
      "cell_type": "markdown",
      "metadata": {
        "id": "view-in-github",
        "colab_type": "text"
      },
      "source": [
        "<a href=\"https://colab.research.google.com/github/drwitt/BME_590_Tensorflow_Deep_Learning/blob/master/Example_CNN.ipynb\" target=\"_parent\"><img src=\"https://colab.research.google.com/assets/colab-badge.svg\" alt=\"Open In Colab\"/></a>"
      ]
    },
    {
      "cell_type": "code",
      "metadata": {
        "id": "cO8iEQPt6Uxk",
        "colab_type": "code",
        "colab": {}
      },
      "source": [
        "!pip3 install tensorflow_datasets\n",
        "!pip3 install tensorflow-gpu==2.0.0-rc0\n",
        "!nvidia-smi"
      ],
      "execution_count": 0,
      "outputs": []
    },
    {
      "cell_type": "code",
      "metadata": {
        "id": "DIwwFa036Ysa",
        "colab_type": "code",
        "outputId": "3efc7ba9-69ec-4bda-ec5d-40ece3c0fd42",
        "colab": {
          "base_uri": "https://localhost:8080/",
          "height": 163
        }
      },
      "source": [
        "import tensorflow as tf\n",
        "import tensorflow_datasets as tfds\n",
        "import matplotlib.pyplot as plt\n",
        "import numpy as np"
      ],
      "execution_count": 0,
      "outputs": [
        {
          "output_type": "stream",
          "text": [
            "WARNING:tensorflow:\n",
            "The TensorFlow contrib module will not be included in TensorFlow 2.0.\n",
            "For more information, please see:\n",
            "  * https://github.com/tensorflow/community/blob/master/rfcs/20180907-contrib-sunset.md\n",
            "  * https://github.com/tensorflow/addons\n",
            "  * https://github.com/tensorflow/io (for I/O related ops)\n",
            "If you depend on functionality not listed there, please file an issue.\n",
            "\n"
          ],
          "name": "stdout"
        }
      ]
    },
    {
      "cell_type": "code",
      "metadata": {
        "id": "HA2Agg2R6apZ",
        "colab_type": "code",
        "colab": {}
      },
      "source": [
        "ds_corrupted = tfds.load('mnist_corrupted/shot_noise', shuffle_files=False, split=tfds.Split.TRAIN)\n",
        "ds_identity = tfds.load('mnist_corrupted/identity', shuffle_files=False, split=tfds.Split.TRAIN)\n",
        "ds_corrupted = ds_corrupted.map(lambda x: x['image'])\n",
        "ds_identity = ds_identity.map(lambda x: x['image'])\n",
        "ds = tf.data.Dataset.zip((ds_corrupted, ds_identity))"
      ],
      "execution_count": 0,
      "outputs": []
    },
    {
      "cell_type": "code",
      "metadata": {
        "id": "VZ8_YcRJ6b8Z",
        "colab_type": "code",
        "colab": {}
      },
      "source": [
        "BATCH_SIZE = 128\n",
        "\n",
        "for x,y in ds: break\n",
        "fig, axes = plt.subplots(1,2)\n",
        "axes[0].imshow(np.squeeze(x.numpy()), cmap='gray')\n",
        "axes[1].imshow(np.squeeze(y.numpy()), cmap='gray')\n",
        "ds = ds.batch(BATCH_SIZE).repeat()"
      ],
      "execution_count": 0,
      "outputs": []
    },
    {
      "cell_type": "code",
      "metadata": {
        "id": "4fn3I0b76doZ",
        "colab_type": "code",
        "colab": {}
      },
      "source": [
        "# Convolutional\n",
        "inputs = tf.keras.layers.Input(shape=(28,28,1))\n",
        "\n",
        "x = tf.keras.layers.Conv2D(48, (7,7), activation='relu', padding='same')(inputs)\n",
        "\n",
        "\n",
        "# block 1\n",
        "xa = tf.keras.layers.Conv2D(16, (3,3), activation='relu', padding='same')(x)\n",
        "xb = tf.keras.layers.Conv2D(16, (5,5), activation='relu', padding='same')(x)\n",
        "xc = tf.keras.layers.Conv2D(16, (7,7), activation='relu', padding='same')(x)\n",
        "x_combined = tf.keras.layers.Concatenate()([xa, xb, xc])\n",
        "x = tf.keras.layers.Add()([x, x_combined]) # residual\n",
        "x = tf.keras.layers.MaxPooling2D()(x)\n",
        "\n",
        "# block 2\n",
        "xc = tf.keras.layers.Conv2D(16, (3,3), activation='relu', padding='same')(x)\n",
        "xc = tf.keras.layers.Conv2D(16, (3,3), activation='relu', padding='same')(xc)\n",
        "x = tf.keras.layers.Add()([x, xc]) # residual\n",
        "x = tf.keras.layers.MaxPooling2D()(x)\n",
        "\n",
        "# block 3\n",
        "xc = tf.keras.layers.Conv2D(16, (3,3), activation='relu', padding='same')(x)\n",
        "xc = tf.keras.layers.Conv2D(16, (3,3), activation='relu', padding='same')(xc)\n",
        "x = tf.keras.layers.Add()([x, xc]) # residual\n",
        "x = tf.keras.layers.MaxPooling2D()(x)\n",
        "\n",
        "x = tf.keras.layers.Conv2D(1, (3,3), activation='relu', padding='same')(x)\n",
        "model = tf.keras.Model(inputs, x)\n",
        "model.compile('adam', loss='mse')\n",
        "model.fit(ds, steps_per_epoch=50000//128, epochs=20)"
      ],
      "execution_count": 0,
      "outputs": []
    },
    {
      "cell_type": "code",
      "metadata": {
        "id": "ShfrC3SK6zJh",
        "colab_type": "code",
        "outputId": "3a045be4-ee15-4aa2-b20e-4e6a83df66a3",
        "colab": {
          "base_uri": "https://localhost:8080/",
          "height": 54
        }
      },
      "source": [
        "import tensorflow as tf\n",
        "\n",
        "model = tf.keras.applications.ResNet50(weights='imagenet', include_top=False)\n",
        "model.summary()"
      ],
      "execution_count": 0,
      "outputs": [
        {
          "output_type": "stream",
          "text": [
            "/usr/local/lib/python3.6/dist-packages/keras_applications/resnet50.py:265: UserWarning: The output shape of `ResNet50(include_top=False)` has been changed since Keras 2.2.0.\n",
            "  warnings.warn('The output shape of `ResNet50(include_top=False)` '\n"
          ],
          "name": "stderr"
        }
      ]
    }
  ]
}