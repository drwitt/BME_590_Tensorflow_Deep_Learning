{
  "nbformat": 4,
  "nbformat_minor": 0,
  "metadata": {
    "colab": {
      "name": "fastMRI_contribution.ipynb",
      "version": "0.3.2",
      "provenance": [],
      "include_colab_link": true
    },
    "kernelspec": {
      "name": "python3",
      "display_name": "Python 3"
    }
  },
  "cells": [
    {
      "cell_type": "markdown",
      "metadata": {
        "id": "view-in-github",
        "colab_type": "text"
      },
      "source": [
        "<a href=\"https://colab.research.google.com/github/drwitt/BME_590_Tensorflow_Deep_Learning/blob/master/fastMRI_contribution.ipynb\" target=\"_parent\"><img src=\"https://colab.research.google.com/assets/colab-badge.svg\" alt=\"Open In Colab\"/></a>"
      ]
    },
    {
      "cell_type": "code",
      "metadata": {
        "id": "qekulP8biH7u",
        "colab_type": "code",
        "colab": {}
      },
      "source": [
        "\"\"\"TODO(fastmri): Add a description here.\"\"\"\n",
        "\n",
        "from __future__ import absolute_import\n",
        "from __future__ import division\n",
        "from __future__ import print_function\n",
        "\n",
        "import tensorflow_datasets as tfds\n",
        "\n",
        "# TODO(fastmri): BibTeX citation\n",
        "_CITATION = \"\"\"\n",
        "\"\"\"\n",
        "\n",
        "# TODO(fastmri):\n",
        "_DESCRIPTION = \"\"\"\n",
        "\"\"\"\n",
        "\n",
        "\n",
        "class fastMRI(tfds.core.GeneratorBasedBuilder):\n",
        "  \"\"\"TODO(fastmri): Short description of my dataset.\"\"\"\n",
        "\n",
        "  # TODO(fastmri): Set up version.\n",
        "  VERSION = tfds.core.Version('0.1.0')\n",
        "\n",
        "  def _info(self):\n",
        "    # TODO(fastmri): Specifies the tfds.core.DatasetInfo object\n",
        "    return tfds.core.DatasetInfo(\n",
        "        builder=self,\n",
        "        # This is the description that will appear on the datasets page.\n",
        "        description=_DESCRIPTION,\n",
        "        # tfds.features.FeatureConnectors\n",
        "        features=tfds.features.FeaturesDict({\n",
        "            \"image\": tfds.features.Image()     # These are the features of your dataset like images, labels ...\n",
        "        }),\n",
        "        # If there's a common (input, target) tuple from the features,\n",
        "        # specify them here. They'll be used if as_supervised=True in\n",
        "        # builder.as_dataset.\n",
        "        supervised_keys=(),\n",
        "        # Homepage of the dataset for documentation\n",
        "        urls=[],\n",
        "        citation=_CITATION,\n",
        "    )\n",
        "\n",
        "  def _split_generators(self, dl_manager):\n",
        "    \"\"\"Returns SplitGenerators.\"\"\"\n",
        "    # TODO(fastmri): Downloads the data and defines the splits\n",
        "    # dl_manager is a tfds.download.DownloadManager that can be used to\n",
        "    # download and extract URLs\n",
        "    \n",
        "    manual_dir = \n",
        "\n",
        "    dl_paths = dl_manager.download_and_extract({\n",
        "      'train': 'https://s3.amazonaws.com/isic-challenge-2019/ISIC_2019_Training_Input.zip',\n",
        "      'val': ,\n",
        "      'test': 'https://s3.amazonaws.com/isic-challenge-2019/ISIC_2019_Test_Input.zip'\n",
        "    })\n",
        "\n",
        "    return [\n",
        "        tfds.core.SplitGenerator(\n",
        "            name=tfds.Split.TRAIN,\n",
        "            # These kwargs will be passed to _generate_examples\n",
        "            gen_kwargs={\n",
        "                'images_dir_path': dl_paths['train'],\n",
        "                'metadata': dl_paths['train_metadata_csv']\n",
        "                'labels': dl_paths['train_csv']\n",
        "            },\n",
        "        ),\n",
        "        tfds.core.SplitGenerator(\n",
        "            name=tfds.Split.TEST,\n",
        "            # These kwargs will be passed to _generate_examples\n",
        "            gen_kwargs={\n",
        "                'images_dir_path': dl_paths['test'],\n",
        "                'metadata': dl_paths['test_metadata_csv']\n",
        "                'labels': dl_paths['test_csv']            },\n",
        "        ),\n",
        "    ]\n",
        "\n",
        "  def _generate_examples(self, images_dir_path=None, labels=None, metadata=None, **kwargs):\n",
        "    \n",
        "\n",
        "    \"\"\"Yields examples.\"\"\"\n",
        "    # TODO(fastmri): Yields (key, example) tuples from the dataset\n",
        "    yield 'key', {}"
      ],
      "execution_count": 0,
      "outputs": []
    },
    {
      "cell_type": "code",
      "metadata": {
        "id": "qs6MnCTa3q8a",
        "colab_type": "code",
        "colab": {}
      },
      "source": [
        ""
      ],
      "execution_count": 0,
      "outputs": []
    }
  ]
}