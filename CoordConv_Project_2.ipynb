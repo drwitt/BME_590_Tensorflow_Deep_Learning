{
  "nbformat": 4,
  "nbformat_minor": 0,
  "metadata": {
    "colab": {
      "name": "CoordConv_Project_2.ipynb",
      "provenance": [],
      "toc_visible": true,
      "include_colab_link": true
    },
    "kernelspec": {
      "name": "python3",
      "display_name": "Python 3"
    }
  },
  "cells": [
    {
      "cell_type": "markdown",
      "metadata": {
        "id": "view-in-github",
        "colab_type": "text"
      },
      "source": [
        "<a href=\"https://colab.research.google.com/github/drwitt/BME_590_Tensorflow_Deep_Learning/blob/master/CoordConv_Project_2.ipynb\" target=\"_parent\"><img src=\"https://colab.research.google.com/assets/colab-badge.svg\" alt=\"Open In Colab\"/></a>"
      ]
    },
    {
      "cell_type": "markdown",
      "metadata": {
        "id": "U7ccJIdBAHb2",
        "colab_type": "text"
      },
      "source": [
        "# CoordConv Project "
      ]
    },
    {
      "cell_type": "code",
      "metadata": {
        "id": "Y3u0Zx-vACfd",
        "colab_type": "code",
        "colab": {
          "base_uri": "https://localhost:8080/",
          "height": 102
        },
        "outputId": "4a40d3ef-e9bc-4b58-d2db-a98d2f6d9103"
      },
      "source": [
        "!git clone https://github.com/uber-research/CoordConv"
      ],
      "execution_count": 2,
      "outputs": [
        {
          "output_type": "stream",
          "text": [
            "Cloning into 'CoordConv'...\n",
            "remote: Enumerating objects: 196, done.\u001b[K\n",
            "Receiving objects:   0% (1/196)   \rReceiving objects:   1% (2/196)   \rReceiving objects:   2% (4/196)   \rReceiving objects:   3% (6/196)   \rReceiving objects:   4% (8/196)   \rReceiving objects:   5% (10/196)   \rReceiving objects:   6% (12/196)   \rReceiving objects:   7% (14/196)   \rReceiving objects:   8% (16/196)   \rReceiving objects:   9% (18/196)   \rReceiving objects:  10% (20/196)   \rReceiving objects:  11% (22/196)   \rReceiving objects:  12% (24/196)   \rReceiving objects:  13% (26/196)   \rReceiving objects:  14% (28/196)   \rReceiving objects:  15% (30/196)   \rReceiving objects:  16% (32/196)   \rReceiving objects:  17% (34/196)   \rReceiving objects:  18% (36/196)   \rReceiving objects:  19% (38/196)   \rReceiving objects:  20% (40/196)   \rReceiving objects:  21% (42/196)   \rReceiving objects:  22% (44/196)   \rReceiving objects:  23% (46/196)   \rReceiving objects:  24% (48/196)   \rReceiving objects:  25% (49/196)   \rReceiving objects:  26% (51/196)   \rReceiving objects:  27% (53/196)   \rReceiving objects:  28% (55/196)   \rReceiving objects:  29% (57/196)   \rReceiving objects:  30% (59/196)   \rReceiving objects:  31% (61/196)   \rReceiving objects:  32% (63/196)   \rReceiving objects:  33% (65/196)   \rReceiving objects:  34% (67/196)   \rReceiving objects:  35% (69/196)   \rReceiving objects:  36% (71/196)   \rReceiving objects:  37% (73/196)   \rReceiving objects:  38% (75/196)   \rReceiving objects:  39% (77/196)   \rReceiving objects:  40% (79/196)   \rReceiving objects:  41% (81/196)   \rReceiving objects:  42% (83/196)   \rReceiving objects:  43% (85/196)   \rReceiving objects:  44% (87/196)   \rReceiving objects:  45% (89/196)   \rReceiving objects:  46% (91/196)   \rReceiving objects:  47% (93/196)   \rReceiving objects:  48% (95/196)   \rReceiving objects:  49% (97/196)   \rReceiving objects:  50% (98/196)   \rReceiving objects:  51% (100/196)   \rReceiving objects:  52% (102/196)   \rReceiving objects:  53% (104/196)   \rReceiving objects:  54% (106/196)   \rremote: Total 196 (delta 0), reused 0 (delta 0), pack-reused 196\u001b[K\n",
            "Receiving objects:  55% (108/196)   \rReceiving objects:  56% (110/196)   \rReceiving objects:  57% (112/196)   \rReceiving objects:  58% (114/196)   \rReceiving objects:  59% (116/196)   \rReceiving objects:  60% (118/196)   \rReceiving objects:  61% (120/196)   \rReceiving objects:  62% (122/196)   \rReceiving objects:  63% (124/196)   \rReceiving objects:  64% (126/196)   \rReceiving objects:  65% (128/196)   \rReceiving objects:  66% (130/196)   \rReceiving objects:  67% (132/196)   \rReceiving objects:  68% (134/196)   \rReceiving objects:  69% (136/196)   \rReceiving objects:  70% (138/196)   \rReceiving objects:  71% (140/196)   \rReceiving objects:  72% (142/196)   \rReceiving objects:  73% (144/196)   \rReceiving objects:  74% (146/196)   \rReceiving objects:  75% (147/196)   \rReceiving objects:  76% (149/196)   \rReceiving objects:  77% (151/196)   \rReceiving objects:  78% (153/196)   \rReceiving objects:  79% (155/196)   \rReceiving objects:  80% (157/196)   \rReceiving objects:  81% (159/196)   \rReceiving objects:  82% (161/196)   \rReceiving objects:  83% (163/196)   \rReceiving objects:  84% (165/196)   \rReceiving objects:  85% (167/196)   \rReceiving objects:  86% (169/196)   \rReceiving objects:  87% (171/196)   \rReceiving objects:  88% (173/196)   \rReceiving objects:  89% (175/196)   \rReceiving objects:  90% (177/196)   \rReceiving objects:  91% (179/196)   \rReceiving objects:  92% (181/196)   \rReceiving objects:  93% (183/196)   \rReceiving objects:  94% (185/196)   \rReceiving objects:  95% (187/196)   \rReceiving objects:  96% (189/196)   \rReceiving objects:  97% (191/196)   \rReceiving objects:  98% (193/196)   \rReceiving objects:  99% (195/196)   \rReceiving objects: 100% (196/196)   \rReceiving objects: 100% (196/196), 189.66 KiB | 5.13 MiB/s, done.\n",
            "Resolving deltas:   0% (0/91)   \rResolving deltas:   4% (4/91)   \rResolving deltas:   5% (5/91)   \rResolving deltas:  12% (11/91)   \rResolving deltas:  17% (16/91)   \rResolving deltas:  18% (17/91)   \rResolving deltas:  19% (18/91)   \rResolving deltas:  21% (20/91)   \rResolving deltas:  23% (21/91)   \rResolving deltas:  24% (22/91)   \rResolving deltas:  25% (23/91)   \rResolving deltas:  26% (24/91)   \rResolving deltas:  38% (35/91)   \rResolving deltas:  39% (36/91)   \rResolving deltas:  40% (37/91)   \rResolving deltas:  42% (39/91)   \rResolving deltas:  43% (40/91)   \rResolving deltas:  45% (41/91)   \rResolving deltas:  49% (45/91)   \rResolving deltas:  53% (49/91)   \rResolving deltas:  85% (78/91)   \rResolving deltas:  92% (84/91)   \rResolving deltas:  94% (86/91)   \rResolving deltas: 100% (91/91)   \rResolving deltas: 100% (91/91), done.\n"
          ],
          "name": "stdout"
        }
      ]
    },
    {
      "cell_type": "code",
      "metadata": {
        "id": "GZoKdRd8AF0P",
        "colab_type": "code",
        "colab": {
          "base_uri": "https://localhost:8080/",
          "height": 34
        },
        "outputId": "55fb2198-b054-47b3-d073-f43ad3b49c47"
      },
      "source": [
        "%cd CoordConv/data/"
      ],
      "execution_count": 8,
      "outputs": [
        {
          "output_type": "stream",
          "text": [
            "/content/CoordConv/data\n"
          ],
          "name": "stdout"
        }
      ]
    },
    {
      "cell_type": "code",
      "metadata": {
        "id": "qu8Ppr8eAF4O",
        "colab_type": "code",
        "colab": {
          "base_uri": "https://localhost:8080/",
          "height": 153
        },
        "outputId": "43a7e7ac-0313-4d86-e36a-27286e689644"
      },
      "source": [
        "!python ./not_so_clevr_generator.py"
      ],
      "execution_count": 17,
      "outputs": [
        {
          "output_type": "stream",
          "text": [
            "Traceback (most recent call last):\n",
            "  File \"./not_so_clevr_generator.py\", line 460, in <module>\n",
            "    writer = dataset_writer(generator,split_function,h5_name)\n",
            "  File \"./not_so_clevr_generator.py\", line 360, in __init__\n",
            "    self.train_np = self.to_numpy(self.train)\n",
            "  File \"./not_so_clevr_generator.py\", line 375, in to_numpy\n",
            "    order = np.random.permutation(len(fields[fields.keys()[0]]))\n",
            "TypeError: 'dict_keys' object does not support indexing\n"
          ],
          "name": "stdout"
        }
      ]
    },
    {
      "cell_type": "code",
      "metadata": {
        "id": "gLdAB4TxAF74",
        "colab_type": "code",
        "colab": {}
      },
      "source": [
        ""
      ],
      "execution_count": 0,
      "outputs": []
    }
  ]
}