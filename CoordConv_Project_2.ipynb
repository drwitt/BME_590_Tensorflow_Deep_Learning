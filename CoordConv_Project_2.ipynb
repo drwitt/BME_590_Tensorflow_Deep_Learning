{
  "nbformat": 4,
  "nbformat_minor": 0,
  "metadata": {
    "colab": {
      "name": "CoordConv_Project_2.ipynb",
      "provenance": [],
      "collapsed_sections": [],
      "toc_visible": true,
      "include_colab_link": true
    },
    "kernelspec": {
      "name": "python3",
      "display_name": "Python 3"
    },
    "accelerator": "GPU"
  },
  "cells": [
    {
      "cell_type": "markdown",
      "metadata": {
        "id": "view-in-github",
        "colab_type": "text"
      },
      "source": [
        "<a href=\"https://colab.research.google.com/github/drwitt/BME_590_Tensorflow_Deep_Learning/blob/master/CoordConv_Project_2.ipynb\" target=\"_parent\"><img src=\"https://colab.research.google.com/assets/colab-badge.svg\" alt=\"Open In Colab\"/></a>"
      ]
    },
    {
      "cell_type": "markdown",
      "metadata": {
        "id": "U7ccJIdBAHb2",
        "colab_type": "text"
      },
      "source": [
        "# CoordConv Project "
      ]
    },
    {
      "cell_type": "code",
      "metadata": {
        "id": "Y3u0Zx-vACfd",
        "colab_type": "code",
        "outputId": "086b181d-77b9-4b5a-8d2d-eafa3994e61e",
        "colab": {
          "base_uri": "https://localhost:8080/",
          "height": 136
        }
      },
      "source": [
        "!git clone https://github.com/drwitt/CoordConv"
      ],
      "execution_count": 1,
      "outputs": [
        {
          "output_type": "stream",
          "text": [
            "Cloning into 'CoordConv'...\n",
            "remote: Enumerating objects: 9, done.\u001b[K\n",
            "remote: Counting objects: 100% (9/9), done.\u001b[K\n",
            "remote: Compressing objects: 100% (6/6), done.\u001b[K\n",
            "remote: Total 205 (delta 3), reused 7 (delta 3), pack-reused 196\u001b[K\n",
            "Receiving objects: 100% (205/205), 197.76 KiB | 2.60 MiB/s, done.\n",
            "Resolving deltas: 100% (94/94), done.\n"
          ],
          "name": "stdout"
        }
      ]
    },
    {
      "cell_type": "code",
      "metadata": {
        "id": "_5VpKxJQiOFY",
        "colab_type": "code",
        "colab": {
          "base_uri": "https://localhost:8080/",
          "height": 34
        },
        "outputId": "cd9701aa-1a27-4e89-fbca-2fd0401392e7"
      },
      "source": [
        "import tensorflow as tf\n",
        "tf.test.gpu_device_name()"
      ],
      "execution_count": 3,
      "outputs": [
        {
          "output_type": "execute_result",
          "data": {
            "text/plain": [
              "'/device:GPU:0'"
            ]
          },
          "metadata": {
            "tags": []
          },
          "execution_count": 3
        }
      ]
    },
    {
      "cell_type": "code",
      "metadata": {
        "id": "gLdAB4TxAF74",
        "colab_type": "code",
        "colab": {
          "base_uri": "https://localhost:8080/",
          "height": 34
        },
        "outputId": "f7b775ca-c66d-47ed-f43f-cc9e99a396b2"
      },
      "source": [
        "cd ./CoordConv/"
      ],
      "execution_count": 2,
      "outputs": [
        {
          "output_type": "stream",
          "text": [
            "/content/CoordConv\n"
          ],
          "name": "stdout"
        }
      ]
    },
    {
      "cell_type": "code",
      "metadata": {
        "id": "Me1gPTQ5fJrS",
        "colab_type": "code",
        "colab": {}
      },
      "source": [
        "!python ./data/not_so_clevr_generator.py"
      ],
      "execution_count": 0,
      "outputs": []
    },
    {
      "cell_type": "code",
      "metadata": {
        "id": "AHY2aksKglBu",
        "colab_type": "code",
        "colab": {
          "base_uri": "https://localhost:8080/",
          "height": 463
        },
        "outputId": "06f2e963-6eac-45e5-b2b4-013addaa1ac8"
      },
      "source": [
        "#Set these versions to make sure below \"sort_of_clevr_generator.py\" runs without\n",
        "#errors:\n",
        "!pip install Pillow==5.0.0\n",
        "!pip install scipy==1.0.1"
      ],
      "execution_count": 5,
      "outputs": [
        {
          "output_type": "stream",
          "text": [
            "Collecting Pillow==5.0.0\n",
            "\u001b[?25l  Downloading https://files.pythonhosted.org/packages/9a/2f/86941111d108fd060190c994f15881283b98693c1c370e74885cfc470eb3/Pillow-5.0.0-cp36-cp36m-manylinux1_x86_64.whl (5.9MB)\n",
            "\u001b[K     |████████████████████████████████| 5.9MB 9.5MB/s \n",
            "\u001b[31mERROR: albumentations 0.1.12 has requirement imgaug<0.2.7,>=0.2.5, but you'll have imgaug 0.2.9 which is incompatible.\u001b[0m\n",
            "\u001b[?25hInstalling collected packages: Pillow\n",
            "  Found existing installation: Pillow 4.3.0\n",
            "    Uninstalling Pillow-4.3.0:\n",
            "      Successfully uninstalled Pillow-4.3.0\n",
            "Successfully installed Pillow-5.0.0\n"
          ],
          "name": "stdout"
        },
        {
          "output_type": "display_data",
          "data": {
            "application/vnd.colab-display-data+json": {
              "pip_warning": {
                "packages": [
                  "PIL"
                ]
              }
            }
          },
          "metadata": {
            "tags": []
          }
        },
        {
          "output_type": "stream",
          "text": [
            "Collecting scipy==1.0.1\n",
            "\u001b[?25l  Downloading https://files.pythonhosted.org/packages/2c/13/eb888fcc83f14d114dee794c3491477ce156caa9f456b7bef1112dde36b5/scipy-1.0.1-cp36-cp36m-manylinux1_x86_64.whl (50.0MB)\n",
            "\u001b[K     |████████████████████████████████| 50.0MB 1.5MB/s \n",
            "\u001b[?25hRequirement already satisfied: numpy>=1.8.2 in /usr/local/lib/python3.6/dist-packages (from scipy==1.0.1) (1.16.5)\n",
            "\u001b[31mERROR: cvxpy 1.0.25 has requirement scipy>=1.1.0, but you'll have scipy 1.0.1 which is incompatible.\u001b[0m\n",
            "\u001b[31mERROR: albumentations 0.1.12 has requirement imgaug<0.2.7,>=0.2.5, but you'll have imgaug 0.2.9 which is incompatible.\u001b[0m\n",
            "Installing collected packages: scipy\n",
            "  Found existing installation: scipy 1.3.1\n",
            "    Uninstalling scipy-1.3.1:\n",
            "      Successfully uninstalled scipy-1.3.1\n",
            "Successfully installed scipy-1.0.1\n"
          ],
          "name": "stdout"
        }
      ]
    },
    {
      "cell_type": "code",
      "metadata": {
        "id": "UMi5aVuOgJ9V",
        "colab_type": "code",
        "colab": {
          "base_uri": "https://localhost:8080/",
          "height": 139
        },
        "outputId": "bdeb4b6f-c7db-4732-8727-3ca652790087"
      },
      "source": [
        "!python ./data/sort_of_clevr_generator.py"
      ],
      "execution_count": 6,
      "outputs": [
        {
          "output_type": "stream",
          "text": [
            "building train datasets...\n",
            "tcmalloc: large alloc 4915200000 bytes == 0x1284e0000 @  0x7fa4111231e7 0x7fa406820d51 0x7fa406885a84 0x7fa406889200 0x7fa406889775 0x7fa40692266d 0x4f8925 0x4f98c7 0x4f6128 0x4f9023 0x6415b2 0x64166a 0x643730 0x62b26e 0x4b4cb0 0x7fa410d20b97 0x5bdf6a\n",
            "saving first 10 images...\n",
            "saving image data into h5 ...\n",
            "saving meta data as pickle ...\n",
            "both image data and meta data saved\n"
          ],
          "name": "stdout"
        }
      ]
    },
    {
      "cell_type": "code",
      "metadata": {
        "id": "eyKzEbjrh3MV",
        "colab_type": "code",
        "colab": {
          "base_uri": "https://localhost:8080/",
          "height": 207
        },
        "outputId": "f8a3b81d-ba54-4b05-f2a5-53dcac1d233e"
      },
      "source": [
        "!pip install colorama\n",
        "!pip install orderedset"
      ],
      "execution_count": 10,
      "outputs": [
        {
          "output_type": "stream",
          "text": [
            "Collecting orderedset\n",
            "\u001b[?25l  Downloading https://files.pythonhosted.org/packages/d1/38/22cd720cd990b3154f5792e93965606f61b795c7da5901c7e79468b119e7/orderedset-2.0.1.tar.gz (95kB)\n",
            "\u001b[K     |████████████████████████████████| 102kB 8.5MB/s \n",
            "\u001b[?25hBuilding wheels for collected packages: orderedset\n",
            "  Building wheel for orderedset (setup.py) ... \u001b[?25l\u001b[?25hdone\n",
            "  Created wheel for orderedset: filename=orderedset-2.0.1-cp36-cp36m-linux_x86_64.whl size=250015 sha256=77e8040238ffbbb25df3c978b6b175b5be5969ee67c1e7c9d32f49cb94a3343f\n",
            "  Stored in directory: /root/.cache/pip/wheels/68/1a/0a/084d78f38459b3111414732e471b0cfbdf05b1931550f60ada\n",
            "Successfully built orderedset\n",
            "Installing collected packages: orderedset\n",
            "Successfully installed orderedset-2.0.1\n"
          ],
          "name": "stdout"
        }
      ]
    },
    {
      "cell_type": "code",
      "metadata": {
        "id": "_vFUYkKkg78W",
        "colab_type": "code",
        "colab": {
          "base_uri": "https://localhost:8080/",
          "height": 1000
        },
        "outputId": "aa149a03-f1e0-419a-bc27-f76a8eaf123b"
      },
      "source": [
        "# coordconv version\n",
        "!python train.py --arch coordconv_classification -mb 16 -E 100 -L 0.005 --opt adam --l2 0.001 -mul 1  "
      ],
      "execution_count": 11,
      "outputs": [
        {
          "output_type": "stream",
          "text": [
            "WARNING:tensorflow:From /content/CoordConv/tf_plus/__init__.py:15: The name tf.layers.Conv2D is deprecated. Please use tf.compat.v1.layers.Conv2D instead.\n",
            "\n",
            "WARNING:tensorflow:From /content/CoordConv/tf_plus/__init__.py:16: The name tf.layers.MaxPooling2D is deprecated. Please use tf.compat.v1.layers.MaxPooling2D instead.\n",
            "\n",
            "WARNING:tensorflow:From /content/CoordConv/tf_plus/__init__.py:17: The name tf.layers.Flatten is deprecated. Please use tf.compat.v1.layers.Flatten instead.\n",
            "\n",
            "WARNING:tensorflow:From /content/CoordConv/tf_plus/__init__.py:18: The name tf.layers.Dense is deprecated. Please use tf.compat.v1.layers.Dense instead.\n",
            "\n",
            "WARNING:tensorflow:From /content/CoordConv/tf_plus/__init__.py:19: The name tf.keras.initializers.he_normal is deprecated. Please use tf.compat.v1.keras.initializers.he_normal instead.\n",
            "\n",
            "WARNING:tensorflow:From /content/CoordConv/model_builders.py:31: The name tf.layers.Conv2DTranspose is deprecated. Please use tf.compat.v1.layers.Conv2DTranspose instead.\n",
            "\n",
            "WARNING:tensorflow:From /content/CoordConv/tf_plus/util.py:110: The name tf.InteractiveSession is deprecated. Please use tf.compat.v1.InteractiveSession instead.\n",
            "\n",
            "2019-10-10 02:38:56.845934: I tensorflow/core/platform/cpu_feature_guard.cc:142] Your CPU supports instructions that this TensorFlow binary was not compiled to use: AVX512F\n",
            "2019-10-10 02:38:56.907531: I tensorflow/core/platform/profile_utils/cpu_utils.cc:94] CPU Frequency: 2000160000 Hz\n",
            "2019-10-10 02:38:56.907835: I tensorflow/compiler/xla/service/service.cc:168] XLA service 0x2941640 initialized for platform Host (this does not guarantee that XLA will be used). Devices:\n",
            "2019-10-10 02:38:56.907871: I tensorflow/compiler/xla/service/service.cc:176]   StreamExecutor device (0): Host, Default Version\n",
            "WARNING:tensorflow:From /content/CoordConv/tf_plus/util.py:112: The name tf.set_random_seed is deprecated. Please use tf.compat.v1.set_random_seed instead.\n",
            "\n",
            "Set numpy and tensorflow random seeds to: 0\n",
            "My PID is 336\n",
            "WARNING:tensorflow:From /content/CoordConv/general/tfutil.py:643: The name tf.placeholder is deprecated. Please use tf.compat.v1.placeholder instead.\n",
            "\n",
            "\n",
            "\n",
            "\n",
            "tf_assert_gpu: no GPU is present! In case it helps, CUDA_VISIBLE_DEVICES is None\n",
            "See error below:\n",
            "\n",
            "\n",
            "\n",
            "Traceback (most recent call last):\n",
            "  File \"/usr/local/lib/python3.6/dist-packages/tensorflow_core/python/client/session.py\", line 1365, in _do_call\n",
            "    return fn(*args)\n",
            "  File \"/usr/local/lib/python3.6/dist-packages/tensorflow_core/python/client/session.py\", line 1350, in _run_fn\n",
            "    target_list, run_metadata)\n",
            "  File \"/usr/local/lib/python3.6/dist-packages/tensorflow_core/python/client/session.py\", line 1443, in _call_tf_sessionrun\n",
            "    run_metadata)\n",
            "tensorflow.python.framework.errors_impl.InvalidArgumentError: Cannot assign a device for operation assert_gpu_1: {{node assert_gpu_1}} was explicitly assigned to /device:GPU:0 but available devices are [ /job:localhost/replica:0/task:0/device:CPU:0, /job:localhost/replica:0/task:0/device:XLA_CPU:0 ]. Make sure the device specification refers to a valid device. The requested device appears to be a GPU, but CUDA is not enabled.\n",
            "\t [[assert_gpu_1]]\n",
            "\n",
            "During handling of the above exception, another exception occurred:\n",
            "\n",
            "Traceback (most recent call last):\n",
            "  File \"train.py\", line 877, in <module>\n",
            "    main()\n",
            "  File \"train.py\", line 131, in main\n",
            "    sess = setup_session_and_seeds(args.seed, assert_gpu=not args.cpu)\n",
            "  File \"/content/CoordConv/tf_plus/util.py\", line 116, in setup_session_and_seeds\n",
            "    tf_assert_gpu(sess)\n",
            "  File \"/content/CoordConv/general/tfutil.py\", line 646, in tf_assert_gpu\n",
            "    sess.run(bar, {foo: 1})\n",
            "  File \"/usr/local/lib/python3.6/dist-packages/tensorflow_core/python/client/session.py\", line 956, in run\n",
            "    run_metadata_ptr)\n",
            "  File \"/usr/local/lib/python3.6/dist-packages/tensorflow_core/python/client/session.py\", line 1180, in _run\n",
            "    feed_dict_tensor, options, run_metadata)\n",
            "  File \"/usr/local/lib/python3.6/dist-packages/tensorflow_core/python/client/session.py\", line 1359, in _do_run\n",
            "    run_metadata)\n",
            "  File \"/usr/local/lib/python3.6/dist-packages/tensorflow_core/python/client/session.py\", line 1384, in _do_call\n",
            "    raise type(e)(node_def, op, message)\n",
            "tensorflow.python.framework.errors_impl.InvalidArgumentError: Cannot assign a device for operation assert_gpu_1: node assert_gpu_1 (defined at /usr/local/lib/python3.6/dist-packages/tensorflow_core/python/framework/ops.py:1748)  was explicitly assigned to /device:GPU:0 but available devices are [ /job:localhost/replica:0/task:0/device:CPU:0, /job:localhost/replica:0/task:0/device:XLA_CPU:0 ]. Make sure the device specification refers to a valid device. The requested device appears to be a GPU, but CUDA is not enabled.\n",
            "\t [[assert_gpu_1]]\n"
          ],
          "name": "stdout"
        }
      ]
    },
    {
      "cell_type": "code",
      "metadata": {
        "id": "kj7d_SzMh0BV",
        "colab_type": "code",
        "colab": {}
      },
      "source": [
        "# deconv version\n",
        "!python train.py --arch deconv_classification -mb 16 -E 2000 -L 0.01 --opt adam --l2 0.001 -mul 2 -fs 3"
      ],
      "execution_count": 0,
      "outputs": []
    }
  ]
}