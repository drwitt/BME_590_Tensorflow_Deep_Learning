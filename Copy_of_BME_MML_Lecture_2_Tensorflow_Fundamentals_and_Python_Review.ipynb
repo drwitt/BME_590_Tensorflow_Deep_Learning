{
  "nbformat": 4,
  "nbformat_minor": 0,
  "metadata": {
    "colab": {
      "name": "Copy of BME MML Lecture 2: Tensorflow Fundamentals and Python Review.ipynb",
      "version": "0.3.2",
      "provenance": [],
      "collapsed_sections": [],
      "include_colab_link": true
    },
    "kernelspec": {
      "name": "python3",
      "display_name": "Python 3"
    },
    "accelerator": "GPU"
  },
  "cells": [
    {
      "cell_type": "markdown",
      "metadata": {
        "id": "view-in-github",
        "colab_type": "text"
      },
      "source": [
        "<a href=\"https://colab.research.google.com/github/drwitt/BME_590_Tensorflow_Deep_Learning/blob/master/Copy_of_BME_MML_Lecture_2_Tensorflow_Fundamentals_and_Python_Review.ipynb\" target=\"_parent\"><img src=\"https://colab.research.google.com/assets/colab-badge.svg\" alt=\"Open In Colab\"/></a>"
      ]
    },
    {
      "cell_type": "markdown",
      "metadata": {
        "id": "ZvrZXxHkO5SF",
        "colab_type": "text"
      },
      "source": [
        "# Download Dependencies"
      ]
    },
    {
      "cell_type": "code",
      "metadata": {
        "id": "R9a8JhMSooax",
        "colab_type": "code",
        "colab": {
          "base_uri": "https://localhost:8080/",
          "height": 1000
        },
        "outputId": "d45ae664-40d9-4bb6-e98e-12652ea6d665"
      },
      "source": [
        "!pip3 install tensorflow_datasets\n",
        "!pip3 install tensorflow-gpu==2.0.0-rc0\n",
        "\n",
        "%load_ext tensorboard\n",
        "\n",
        "!nvidia-smi"
      ],
      "execution_count": 1,
      "outputs": [
        {
          "output_type": "stream",
          "text": [
            "Collecting tensorflow_datasets\n",
            "\u001b[?25l  Downloading https://files.pythonhosted.org/packages/6c/34/ff424223ed4331006aaa929efc8360b6459d427063dc59fc7b75d7e4bab3/tensorflow_datasets-1.2.0-py3-none-any.whl (2.3MB)\n",
            "\u001b[K     |████████████████████████████████| 2.3MB 2.9MB/s \n",
            "\u001b[?25hRequirement already satisfied: absl-py in /usr/local/lib/python3.6/dist-packages (from tensorflow_datasets) (0.7.1)\n",
            "Requirement already satisfied: psutil in /usr/local/lib/python3.6/dist-packages (from tensorflow_datasets) (5.4.8)\n",
            "Requirement already satisfied: requests>=2.19.0 in /usr/local/lib/python3.6/dist-packages (from tensorflow_datasets) (2.21.0)\n",
            "Requirement already satisfied: wrapt in /usr/local/lib/python3.6/dist-packages (from tensorflow_datasets) (1.11.2)\n",
            "Requirement already satisfied: dill in /usr/local/lib/python3.6/dist-packages (from tensorflow_datasets) (0.3.0)\n",
            "Requirement already satisfied: termcolor in /usr/local/lib/python3.6/dist-packages (from tensorflow_datasets) (1.1.0)\n",
            "Requirement already satisfied: numpy in /usr/local/lib/python3.6/dist-packages (from tensorflow_datasets) (1.16.4)\n",
            "Requirement already satisfied: promise in /usr/local/lib/python3.6/dist-packages (from tensorflow_datasets) (2.2.1)\n",
            "Requirement already satisfied: tqdm in /usr/local/lib/python3.6/dist-packages (from tensorflow_datasets) (4.28.1)\n",
            "Requirement already satisfied: protobuf>=3.6.1 in /usr/local/lib/python3.6/dist-packages (from tensorflow_datasets) (3.7.1)\n",
            "Requirement already satisfied: six in /usr/local/lib/python3.6/dist-packages (from tensorflow_datasets) (1.12.0)\n",
            "Requirement already satisfied: attrs in /usr/local/lib/python3.6/dist-packages (from tensorflow_datasets) (19.1.0)\n",
            "Requirement already satisfied: future in /usr/local/lib/python3.6/dist-packages (from tensorflow_datasets) (0.16.0)\n",
            "Requirement already satisfied: tensorflow-metadata in /usr/local/lib/python3.6/dist-packages (from tensorflow_datasets) (0.14.0)\n",
            "Requirement already satisfied: certifi>=2017.4.17 in /usr/local/lib/python3.6/dist-packages (from requests>=2.19.0->tensorflow_datasets) (2019.6.16)\n",
            "Requirement already satisfied: urllib3<1.25,>=1.21.1 in /usr/local/lib/python3.6/dist-packages (from requests>=2.19.0->tensorflow_datasets) (1.24.3)\n",
            "Requirement already satisfied: chardet<3.1.0,>=3.0.2 in /usr/local/lib/python3.6/dist-packages (from requests>=2.19.0->tensorflow_datasets) (3.0.4)\n",
            "Requirement already satisfied: idna<2.9,>=2.5 in /usr/local/lib/python3.6/dist-packages (from requests>=2.19.0->tensorflow_datasets) (2.8)\n",
            "Requirement already satisfied: setuptools in /usr/local/lib/python3.6/dist-packages (from protobuf>=3.6.1->tensorflow_datasets) (41.2.0)\n",
            "Requirement already satisfied: googleapis-common-protos in /usr/local/lib/python3.6/dist-packages (from tensorflow-metadata->tensorflow_datasets) (1.6.0)\n",
            "Installing collected packages: tensorflow-datasets\n",
            "Successfully installed tensorflow-datasets-1.2.0\n",
            "Collecting tensorflow-gpu==2.0.0-rc0\n",
            "\u001b[?25l  Downloading https://files.pythonhosted.org/packages/6a/12/8c64cc62149cc21c70c55018502831bbf4d42bd62bed196df7de6830d21b/tensorflow_gpu-2.0.0rc0-cp36-cp36m-manylinux2010_x86_64.whl (380.5MB)\n",
            "\u001b[K     |████████████████████████████████| 380.5MB 62kB/s \n",
            "\u001b[?25hRequirement already satisfied: opt-einsum>=2.3.2 in /usr/local/lib/python3.6/dist-packages (from tensorflow-gpu==2.0.0-rc0) (3.0.1)\n",
            "Requirement already satisfied: grpcio>=1.8.6 in /usr/local/lib/python3.6/dist-packages (from tensorflow-gpu==2.0.0-rc0) (1.15.0)\n",
            "Requirement already satisfied: google-pasta>=0.1.6 in /usr/local/lib/python3.6/dist-packages (from tensorflow-gpu==2.0.0-rc0) (0.1.7)\n",
            "Requirement already satisfied: gast>=0.2.0 in /usr/local/lib/python3.6/dist-packages (from tensorflow-gpu==2.0.0-rc0) (0.2.2)\n",
            "Requirement already satisfied: absl-py>=0.7.0 in /usr/local/lib/python3.6/dist-packages (from tensorflow-gpu==2.0.0-rc0) (0.7.1)\n",
            "Requirement already satisfied: keras-preprocessing>=1.0.5 in /usr/local/lib/python3.6/dist-packages (from tensorflow-gpu==2.0.0-rc0) (1.1.0)\n",
            "Collecting tf-estimator-nightly<1.14.0.dev2019080602,>=1.14.0.dev2019080601 (from tensorflow-gpu==2.0.0-rc0)\n",
            "\u001b[?25l  Downloading https://files.pythonhosted.org/packages/21/28/f2a27a62943d5f041e4a6fd404b2d21cb7c59b2242a4e73b03d9ba166552/tf_estimator_nightly-1.14.0.dev2019080601-py2.py3-none-any.whl (501kB)\n",
            "\u001b[K     |████████████████████████████████| 501kB 40.6MB/s \n",
            "\u001b[?25hRequirement already satisfied: keras-applications>=1.0.8 in /usr/local/lib/python3.6/dist-packages (from tensorflow-gpu==2.0.0-rc0) (1.0.8)\n",
            "Requirement already satisfied: wrapt>=1.11.1 in /usr/local/lib/python3.6/dist-packages (from tensorflow-gpu==2.0.0-rc0) (1.11.2)\n",
            "Requirement already satisfied: six>=1.10.0 in /usr/local/lib/python3.6/dist-packages (from tensorflow-gpu==2.0.0-rc0) (1.12.0)\n",
            "Requirement already satisfied: protobuf>=3.6.1 in /usr/local/lib/python3.6/dist-packages (from tensorflow-gpu==2.0.0-rc0) (3.7.1)\n",
            "Requirement already satisfied: termcolor>=1.1.0 in /usr/local/lib/python3.6/dist-packages (from tensorflow-gpu==2.0.0-rc0) (1.1.0)\n",
            "Requirement already satisfied: wheel>=0.26 in /usr/local/lib/python3.6/dist-packages (from tensorflow-gpu==2.0.0-rc0) (0.33.6)\n",
            "Collecting tb-nightly<1.15.0a20190807,>=1.15.0a20190806 (from tensorflow-gpu==2.0.0-rc0)\n",
            "\u001b[?25l  Downloading https://files.pythonhosted.org/packages/bc/88/24b5fb7280e74c7cf65bde47c171547fd02afb3840cff41bcbe9270650f5/tb_nightly-1.15.0a20190806-py3-none-any.whl (4.3MB)\n",
            "\u001b[K     |████████████████████████████████| 4.3MB 29.2MB/s \n",
            "\u001b[?25hRequirement already satisfied: numpy<2.0,>=1.16.0 in /usr/local/lib/python3.6/dist-packages (from tensorflow-gpu==2.0.0-rc0) (1.16.4)\n",
            "Requirement already satisfied: astor>=0.6.0 in /usr/local/lib/python3.6/dist-packages (from tensorflow-gpu==2.0.0-rc0) (0.8.0)\n",
            "Requirement already satisfied: h5py in /usr/local/lib/python3.6/dist-packages (from keras-applications>=1.0.8->tensorflow-gpu==2.0.0-rc0) (2.8.0)\n",
            "Requirement already satisfied: setuptools in /usr/local/lib/python3.6/dist-packages (from protobuf>=3.6.1->tensorflow-gpu==2.0.0-rc0) (41.2.0)\n",
            "Requirement already satisfied: werkzeug>=0.11.15 in /usr/local/lib/python3.6/dist-packages (from tb-nightly<1.15.0a20190807,>=1.15.0a20190806->tensorflow-gpu==2.0.0-rc0) (0.15.5)\n",
            "Requirement already satisfied: markdown>=2.6.8 in /usr/local/lib/python3.6/dist-packages (from tb-nightly<1.15.0a20190807,>=1.15.0a20190806->tensorflow-gpu==2.0.0-rc0) (3.1.1)\n",
            "Installing collected packages: tf-estimator-nightly, tb-nightly, tensorflow-gpu\n",
            "Successfully installed tb-nightly-1.15.0a20190806 tensorflow-gpu-2.0.0rc0 tf-estimator-nightly-1.14.0.dev2019080601\n",
            "Tue Sep  3 12:46:34 2019       \n",
            "+-----------------------------------------------------------------------------+\n",
            "| NVIDIA-SMI 430.40       Driver Version: 418.67       CUDA Version: 10.1     |\n",
            "|-------------------------------+----------------------+----------------------+\n",
            "| GPU  Name        Persistence-M| Bus-Id        Disp.A | Volatile Uncorr. ECC |\n",
            "| Fan  Temp  Perf  Pwr:Usage/Cap|         Memory-Usage | GPU-Util  Compute M. |\n",
            "|===============================+======================+======================|\n",
            "|   0  Tesla K80           Off  | 00000000:00:04.0 Off |                    0 |\n",
            "| N/A   33C    P8    28W / 149W |      0MiB / 11441MiB |      0%      Default |\n",
            "+-------------------------------+----------------------+----------------------+\n",
            "                                                                               \n",
            "+-----------------------------------------------------------------------------+\n",
            "| Processes:                                                       GPU Memory |\n",
            "|  GPU       PID   Type   Process name                             Usage      |\n",
            "|=============================================================================|\n",
            "|  No running processes found                                                 |\n",
            "+-----------------------------------------------------------------------------+\n"
          ],
          "name": "stdout"
        }
      ]
    },
    {
      "cell_type": "code",
      "metadata": {
        "id": "LsUBKBtFJ0uA",
        "colab_type": "code",
        "colab": {}
      },
      "source": [
        ""
      ],
      "execution_count": 0,
      "outputs": []
    },
    {
      "cell_type": "markdown",
      "metadata": {
        "id": "AJUFhAryPryj",
        "colab_type": "text"
      },
      "source": [
        "# Review decorators and with blocks"
      ]
    },
    {
      "cell_type": "markdown",
      "metadata": {
        "id": "lnlfEiQWNFpo",
        "colab_type": "text"
      },
      "source": [
        "Notes on with blocks: \n",
        "\n",
        "* useful for uploading data or files\n",
        "\n",
        "* Notice that if anything causes an error, the with loop keeps going but will return that information on __exit__() \n",
        "\n",
        "* Start using with blocks with enter and exit methods"
      ]
    },
    {
      "cell_type": "code",
      "metadata": {
        "id": "Rhm_rC2_PrYc",
        "colab_type": "code",
        "colab": {
          "base_uri": "https://localhost:8080/",
          "height": 283
        },
        "outputId": "a560a289-7013-46d0-c8e1-b871cff98322"
      },
      "source": [
        "class controlled_execution:\n",
        "    def __enter__(self):\n",
        "        print('setting things up (such as opening a file)')\n",
        "    def __exit__(self, type, value, traceback): # What are the __underscores__ for?\n",
        "        print(value)\n",
        "        print(traceback)\n",
        "        print(type)\n",
        "        print('removing things (such as closing a file)')\n",
        "\n",
        "with controlled_execution():\n",
        "  x = 1/0"
      ],
      "execution_count": 2,
      "outputs": [
        {
          "output_type": "stream",
          "text": [
            "setting things up (such as opening a file)\n",
            "division by zero\n",
            "<traceback object at 0x7f5aabe56bc8>\n",
            "<class 'ZeroDivisionError'>\n",
            "removing things (such as closing a file)\n"
          ],
          "name": "stdout"
        },
        {
          "output_type": "error",
          "ename": "ZeroDivisionError",
          "evalue": "ignored",
          "traceback": [
            "\u001b[0;31m---------------------------------------------------------------------------\u001b[0m",
            "\u001b[0;31mZeroDivisionError\u001b[0m                         Traceback (most recent call last)",
            "\u001b[0;32m<ipython-input-2-7eb31df3c51f>\u001b[0m in \u001b[0;36m<module>\u001b[0;34m()\u001b[0m\n\u001b[1;32m      9\u001b[0m \u001b[0;34m\u001b[0m\u001b[0m\n\u001b[1;32m     10\u001b[0m \u001b[0;32mwith\u001b[0m \u001b[0mcontrolled_execution\u001b[0m\u001b[0;34m(\u001b[0m\u001b[0;34m)\u001b[0m\u001b[0;34m:\u001b[0m\u001b[0;34m\u001b[0m\u001b[0;34m\u001b[0m\u001b[0m\n\u001b[0;32m---> 11\u001b[0;31m   \u001b[0mx\u001b[0m \u001b[0;34m=\u001b[0m \u001b[0;36m1\u001b[0m\u001b[0;34m/\u001b[0m\u001b[0;36m0\u001b[0m\u001b[0;34m\u001b[0m\u001b[0;34m\u001b[0m\u001b[0m\n\u001b[0m",
            "\u001b[0;31mZeroDivisionError\u001b[0m: division by zero"
          ]
        }
      ]
    },
    {
      "cell_type": "markdown",
      "metadata": {
        "id": "VFs2BdMON2Yk",
        "colab_type": "text"
      },
      "source": [
        "### Decorator Notes: \n",
        "\n",
        "* Allows you to pass function to another \"wrapper\" function and use \"syntactic sugar\" so that you don't need to actually write def func_dec(func_inner)\n",
        "\n"
      ]
    },
    {
      "cell_type": "code",
      "metadata": {
        "id": "cR8WwW1tQkIr",
        "colab_type": "code",
        "colab": {
          "base_uri": "https://localhost:8080/",
          "height": 68
        },
        "outputId": "53be3002-d5bf-4291-c218-9d5c7d77b4f7"
      },
      "source": [
        "def my_decorator(fn):\n",
        "  def function_wrapper(x):\n",
        "    print(\"Before calling \" + fn.__name__)\n",
        "    output = fn(x)\n",
        "    print(\"After calling \" + fn.__name__)\n",
        "    return output\n",
        "  return function_wrapper\n",
        "\n",
        "@my_decorator\n",
        "def my_fun(x):\n",
        "  return x+x\n",
        "\n",
        "a = my_fun(2)\n",
        "print(a)"
      ],
      "execution_count": 3,
      "outputs": [
        {
          "output_type": "stream",
          "text": [
            "Before calling my_fun\n",
            "After calling my_fun\n",
            "4\n"
          ],
          "name": "stdout"
        }
      ]
    },
    {
      "cell_type": "markdown",
      "metadata": {
        "id": "lLvACcXURaJA",
        "colab_type": "text"
      },
      "source": [
        "My own practice:"
      ]
    },
    {
      "cell_type": "code",
      "metadata": {
        "id": "DOPBTcUuN1id",
        "colab_type": "code",
        "colab": {
          "base_uri": "https://localhost:8080/",
          "height": 34
        },
        "outputId": "9cf50a17-3378-4fed-bb96-d217cfea0589"
      },
      "source": [
        "def decorator_func(func_inner):\n",
        "  \n",
        "  def some_wrapper_func(x):\n",
        "    output = func_inner(x) * 1000\n",
        "    return output\n",
        "  \n",
        "  #Note, just return function name (not the ()) and the entire decorator func\n",
        "  #returns the wrapper function within the decorator function\n",
        "  return some_wrapper_func\n",
        "\n",
        "@decorator_x\n",
        "def innermost_func(var):\n",
        "  return var + var\n",
        "\n",
        "innermost_func(2)"
      ],
      "execution_count": 17,
      "outputs": [
        {
          "output_type": "execute_result",
          "data": {
            "text/plain": [
              "4000"
            ]
          },
          "metadata": {
            "tags": []
          },
          "execution_count": 17
        }
      ]
    },
    {
      "cell_type": "markdown",
      "metadata": {
        "id": "hPbx9wC2O_jt",
        "colab_type": "text"
      },
      "source": [
        "# Explore `@tf.function`\n",
        "We will create the following graph in TensorFlow 2.0 using `@tf.function`\n",
        "\n",
        "![alt text](https://miro.medium.com/max/1917/1*RfSvkiVUHHWEe805Hf1HEw.png)"
      ]
    },
    {
      "cell_type": "code",
      "metadata": {
        "id": "d-sKfwRtEDY1",
        "colab_type": "code",
        "outputId": "3e0be151-a7f6-4c47-964e-bad3df8b77e0",
        "colab": {
          "base_uri": "https://localhost:8080/",
          "height": 34
        }
      },
      "source": [
        "import tensorflow as tf\n",
        "\n",
        "@tf.function\n",
        "def my_func(my_input):\n",
        "    a = tf.square(my_input, name=\"A\")\n",
        "    b = tf.cos(a, name=\"B\")\n",
        "    c = tf.sin(a, name=\"C\")   \n",
        "    d = tf.add(b, c, name=\"D\")\n",
        "    e = tf.floor(b, name=\"E\")\n",
        "    f = tf.sqrt(d, name=\"F\")\n",
        "    return e,f\n",
        "\n",
        "# We use `tf.summary` to trace the graph as it is executing.\n",
        "tf.summary.trace_on(graph=True, profiler=False)\n",
        "print(my_func(2.0))\n",
        "with tf.summary.create_file_writer('./logs').as_default():   \n",
        "    tf.summary.trace_export(\n",
        "        name='tf2_graph',\n",
        "        step=0,\n",
        "        profiler_outdir='./logs/profiler'\n",
        "    )\n",
        "tf.summary.trace_off()"
      ],
      "execution_count": 18,
      "outputs": [
        {
          "output_type": "stream",
          "text": [
            "(<tf.Tensor: id=13, shape=(), dtype=float32, numpy=-1.0>, <tf.Tensor: id=14, shape=(), dtype=float32, numpy=nan>)\n"
          ],
          "name": "stdout"
        }
      ]
    },
    {
      "cell_type": "code",
      "metadata": {
        "id": "u2rI50GPMlES",
        "colab_type": "code",
        "colab": {
          "base_uri": "https://localhost:8080/",
          "height": 1000
        },
        "outputId": "edab4eba-305c-4cf0-a216-fa4d70a15c7a"
      },
      "source": [
        "# We can also get an explicit tf.Graph using this with block\n",
        "graph = tf.Graph()\n",
        "with graph.as_default():\n",
        "  my_func(2.0)\n",
        "graph.as_graph_def()"
      ],
      "execution_count": 21,
      "outputs": [
        {
          "output_type": "execute_result",
          "data": {
            "text/plain": [
              "node {\n",
              "  name: \"PartitionedCall\"\n",
              "  op: \"PartitionedCall\"\n",
              "  attr {\n",
              "    key: \"Tin\"\n",
              "    value {\n",
              "      list {\n",
              "      }\n",
              "    }\n",
              "  }\n",
              "  attr {\n",
              "    key: \"Tout\"\n",
              "    value {\n",
              "      list {\n",
              "        type: DT_FLOAT\n",
              "        type: DT_FLOAT\n",
              "      }\n",
              "    }\n",
              "  }\n",
              "  attr {\n",
              "    key: \"_gradient_op_type\"\n",
              "    value {\n",
              "      s: \"PartitionedCall-72\"\n",
              "    }\n",
              "  }\n",
              "  attr {\n",
              "    key: \"config\"\n",
              "    value {\n",
              "      s: \"\"\n",
              "    }\n",
              "  }\n",
              "  attr {\n",
              "    key: \"config_proto\"\n",
              "    value {\n",
              "      s: \"\\n\\007\\n\\003GPU\\020\\001\\n\\007\\n\\003CPU\\020\\0012\\005*\\0010J\\0008\\001\"\n",
              "    }\n",
              "  }\n",
              "  attr {\n",
              "    key: \"executor_type\"\n",
              "    value {\n",
              "      s: \"\"\n",
              "    }\n",
              "  }\n",
              "  attr {\n",
              "    key: \"f\"\n",
              "    value {\n",
              "      func {\n",
              "        name: \"__inference_my_func_71\"\n",
              "      }\n",
              "    }\n",
              "  }\n",
              "}\n",
              "library {\n",
              "  function {\n",
              "    signature {\n",
              "      name: \"__inference_my_func_71\"\n",
              "      output_arg {\n",
              "        name: \"identity\"\n",
              "        type: DT_FLOAT\n",
              "      }\n",
              "      output_arg {\n",
              "        name: \"identity_1\"\n",
              "        type: DT_FLOAT\n",
              "      }\n",
              "    }\n",
              "    node_def {\n",
              "      name: \"A/x\"\n",
              "      op: \"Const\"\n",
              "      attr {\n",
              "        key: \"dtype\"\n",
              "        value {\n",
              "          type: DT_FLOAT\n",
              "        }\n",
              "      }\n",
              "      attr {\n",
              "        key: \"value\"\n",
              "        value {\n",
              "          tensor {\n",
              "            dtype: DT_FLOAT\n",
              "            tensor_shape {\n",
              "            }\n",
              "            float_val: 2.0\n",
              "          }\n",
              "        }\n",
              "      }\n",
              "    }\n",
              "    node_def {\n",
              "      name: \"A\"\n",
              "      op: \"Square\"\n",
              "      input: \"A/x:output:0\"\n",
              "      attr {\n",
              "        key: \"T\"\n",
              "        value {\n",
              "          type: DT_FLOAT\n",
              "        }\n",
              "      }\n",
              "    }\n",
              "    node_def {\n",
              "      name: \"B\"\n",
              "      op: \"Cos\"\n",
              "      input: \"A:y:0\"\n",
              "      attr {\n",
              "        key: \"T\"\n",
              "        value {\n",
              "          type: DT_FLOAT\n",
              "        }\n",
              "      }\n",
              "    }\n",
              "    node_def {\n",
              "      name: \"C\"\n",
              "      op: \"Sin\"\n",
              "      input: \"A:y:0\"\n",
              "      attr {\n",
              "        key: \"T\"\n",
              "        value {\n",
              "          type: DT_FLOAT\n",
              "        }\n",
              "      }\n",
              "    }\n",
              "    node_def {\n",
              "      name: \"D\"\n",
              "      op: \"Add\"\n",
              "      input: \"B:y:0\"\n",
              "      input: \"C:y:0\"\n",
              "      attr {\n",
              "        key: \"T\"\n",
              "        value {\n",
              "          type: DT_FLOAT\n",
              "        }\n",
              "      }\n",
              "    }\n",
              "    node_def {\n",
              "      name: \"E\"\n",
              "      op: \"Floor\"\n",
              "      input: \"B:y:0\"\n",
              "      attr {\n",
              "        key: \"T\"\n",
              "        value {\n",
              "          type: DT_FLOAT\n",
              "        }\n",
              "      }\n",
              "    }\n",
              "    node_def {\n",
              "      name: \"F\"\n",
              "      op: \"Sqrt\"\n",
              "      input: \"D:z:0\"\n",
              "      attr {\n",
              "        key: \"T\"\n",
              "        value {\n",
              "          type: DT_FLOAT\n",
              "        }\n",
              "      }\n",
              "    }\n",
              "    node_def {\n",
              "      name: \"Identity\"\n",
              "      op: \"Identity\"\n",
              "      input: \"E:y:0\"\n",
              "      attr {\n",
              "        key: \"T\"\n",
              "        value {\n",
              "          type: DT_FLOAT\n",
              "        }\n",
              "      }\n",
              "    }\n",
              "    node_def {\n",
              "      name: \"Identity_1\"\n",
              "      op: \"Identity\"\n",
              "      input: \"F:y:0\"\n",
              "      attr {\n",
              "        key: \"T\"\n",
              "        value {\n",
              "          type: DT_FLOAT\n",
              "        }\n",
              "      }\n",
              "    }\n",
              "    ret {\n",
              "      key: \"identity\"\n",
              "      value: \"Identity:output:0\"\n",
              "    }\n",
              "    ret {\n",
              "      key: \"identity_1\"\n",
              "      value: \"Identity_1:output:0\"\n",
              "    }\n",
              "  }\n",
              "}\n",
              "versions {\n",
              "  producer: 119\n",
              "  min_consumer: 12\n",
              "}"
            ]
          },
          "metadata": {
            "tags": []
          },
          "execution_count": 21
        }
      ]
    },
    {
      "cell_type": "code",
      "metadata": {
        "id": "9OSIJ_nvEu8c",
        "colab_type": "code",
        "colab": {}
      },
      "source": [
        "%tensorboard --logdir='./logs'"
      ],
      "execution_count": 0,
      "outputs": []
    },
    {
      "cell_type": "code",
      "metadata": {
        "id": "451MJMoLUTyM",
        "colab_type": "code",
        "outputId": "2fdd7cc1-0453-481e-c5c3-46a57cccb31f",
        "colab": {
          "base_uri": "https://localhost:8080/",
          "height": 119
        }
      },
      "source": [
        "# tf.Variable\n",
        "# @tf.function (what happens if we try this?)\n",
        "def f(const):\n",
        "    a = tf.constant([[10,10],[11.,1.]])\n",
        "    x = tf.constant([[1.,0.],[0.,1.]])\n",
        "    b = tf.Variable(12.) + const\n",
        "    y = tf.matmul(a, x) + b\n",
        "    print(\"PRINT: \", y)\n",
        "    return y\n",
        "\n",
        "f(100)"
      ],
      "execution_count": 23,
      "outputs": [
        {
          "output_type": "stream",
          "text": [
            "PRINT:  tf.Tensor(\n",
            "[[122. 122.]\n",
            " [123. 113.]], shape=(2, 2), dtype=float32)\n"
          ],
          "name": "stdout"
        },
        {
          "output_type": "execute_result",
          "data": {
            "text/plain": [
              "<tf.Tensor: id=88, shape=(2, 2), dtype=float32, numpy=\n",
              "array([[122., 122.],\n",
              "       [123., 113.]], dtype=float32)>"
            ]
          },
          "metadata": {
            "tags": []
          },
          "execution_count": 23
        }
      ]
    },
    {
      "cell_type": "markdown",
      "metadata": {
        "id": "1Thwbx-bTu3T",
        "colab_type": "text"
      },
      "source": [
        "Make a change here and compare:"
      ]
    },
    {
      "cell_type": "code",
      "metadata": {
        "id": "WsipiK2nTqwr",
        "colab_type": "code",
        "colab": {}
      },
      "source": [
        "# tf.Variable\n",
        "@tf.function #(what happens if we try this?)\n",
        "def f(const):\n",
        "    a = tf.constant([[10,10],[11.,1.]])\n",
        "    x = tf.constant([[1.,0.],[0.,1.]])\n",
        "    b = tf.Variable(12.) + const\n",
        "    y = tf.matmul(a, x) + b\n",
        "    print(\"PRINT: \", y)\n",
        "    return y\n"
      ],
      "execution_count": 0,
      "outputs": []
    },
    {
      "cell_type": "code",
      "metadata": {
        "id": "rZ7kp-7iU2W_",
        "colab_type": "code",
        "outputId": "3abf3651-b644-4c6d-afaa-d50974c48cb9",
        "colab": {
          "base_uri": "https://localhost:8080/",
          "height": 145
        }
      },
      "source": [
        "# What is the difference between class and instance?\n",
        "\n",
        "class F:\n",
        "    def __init__(self):\n",
        "        self._b = None\n",
        "\n",
        "    @tf.function\n",
        "    def __call__(self, const):\n",
        "        a = tf.constant([[10, 10], [11., 1.]])\n",
        "        x = tf.constant([[1., 0.], [0., 1.]])\n",
        "        if self._b is None:\n",
        "            self._b = tf.Variable(12.)\n",
        "        self._b.assign(self._b + const)\n",
        "        y = tf.matmul(a, x) + self._b\n",
        "        print(\"PRINT: \", y)\n",
        "        tf.print(\"TF-PRINT: \", y)\n",
        "        return y\n",
        "\n",
        "f = F()\n",
        "f(100.)"
      ],
      "execution_count": 0,
      "outputs": [
        {
          "output_type": "stream",
          "text": [
            "PRINT:  Tensor(\"add_1:0\", shape=(2, 2), dtype=float32)\n",
            "PRINT:  Tensor(\"add_1:0\", shape=(2, 2), dtype=float32)\n",
            "TF-PRINT:  [[122 122]\n",
            " [123 113]]\n"
          ],
          "name": "stdout"
        },
        {
          "output_type": "execute_result",
          "data": {
            "text/plain": [
              "<tf.Tensor: id=623, shape=(2, 2), dtype=float32, numpy=\n",
              "array([[122., 122.],\n",
              "       [123., 113.]], dtype=float32)>"
            ]
          },
          "metadata": {
            "tags": []
          },
          "execution_count": 82
        }
      ]
    }
  ]
}