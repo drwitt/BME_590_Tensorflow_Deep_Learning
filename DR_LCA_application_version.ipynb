{
  "nbformat": 4,
  "nbformat_minor": 0,
  "metadata": {
    "kernelspec": {
      "name": "python3",
      "display_name": "Python 3"
    },
    "language_info": {
      "codemirror_mode": {
        "name": "ipython",
        "version": 3
      },
      "file_extension": ".py",
      "mimetype": "text/x-python",
      "name": "python",
      "nbconvert_exporter": "python",
      "pygments_lexer": "ipython3",
      "version": "3.6.9"
    },
    "colab": {
      "name": "Copy of Copy of DR_LCA_application_version.ipynb",
      "provenance": [],
      "collapsed_sections": [],
      "include_colab_link": true
    },
    "accelerator": "GPU"
  },
  "cells": [
    {
      "cell_type": "markdown",
      "metadata": {
        "id": "view-in-github",
        "colab_type": "text"
      },
      "source": [
        "<a href=\"https://colab.research.google.com/github/drwitt/BME_590_Tensorflow_Deep_Learning/blob/master/DR_LCA_application_version.ipynb\" target=\"_parent\"><img src=\"https://colab.research.google.com/assets/colab-badge.svg\" alt=\"Open In Colab\"/></a>"
      ]
    },
    {
      "cell_type": "markdown",
      "metadata": {
        "id": "ZoVlI3ENa6IL",
        "colab_type": "text"
      },
      "source": [
        "# Diabetic Retinopathy Workspace"
      ]
    },
    {
      "cell_type": "markdown",
      "metadata": {
        "id": "n7G8BgNf8y2W",
        "colab_type": "text"
      },
      "source": [
        "## Setup gdrive files"
      ]
    },
    {
      "cell_type": "code",
      "metadata": {
        "id": "y1PeSpDdm2YJ",
        "colab_type": "code",
        "outputId": "404b53f5-3528-489e-9dfc-2990241ea3ba",
        "colab": {
          "base_uri": "https://localhost:8080/",
          "height": 122
        }
      },
      "source": [
        "from google.colab import drive\n",
        "drive.mount('/content/gdrive')"
      ],
      "execution_count": 0,
      "outputs": [
        {
          "output_type": "stream",
          "text": [
            "Go to this URL in a browser: https://accounts.google.com/o/oauth2/auth?client_id=947318989803-6bn6qk8qdgf4n4g3pfee6491hc0brc4i.apps.googleusercontent.com&redirect_uri=urn%3aietf%3awg%3aoauth%3a2.0%3aoob&response_type=code&scope=email%20https%3a%2f%2fwww.googleapis.com%2fauth%2fdocs.test%20https%3a%2f%2fwww.googleapis.com%2fauth%2fdrive%20https%3a%2f%2fwww.googleapis.com%2fauth%2fdrive.photos.readonly%20https%3a%2f%2fwww.googleapis.com%2fauth%2fpeopleapi.readonly\n",
            "\n",
            "Enter your authorization code:\n",
            "··········\n",
            "Mounted at /content/gdrive\n"
          ],
          "name": "stdout"
        }
      ]
    },
    {
      "cell_type": "code",
      "metadata": {
        "id": "XSdh4d7bm4zT",
        "colab_type": "code",
        "colab": {}
      },
      "source": [
        "!cd /content"
      ],
      "execution_count": 0,
      "outputs": []
    },
    {
      "cell_type": "code",
      "metadata": {
        "colab_type": "code",
        "id": "A-GV1qr2pot1",
        "outputId": "eef68366-6617-4ffe-dbf7-aea1ebb0237e",
        "colab": {
          "base_uri": "https://localhost:8080/",
          "height": 80
        }
      },
      "source": [
        "import tensorflow as tf\n",
        "import numpy as np\n",
        "import pandas as pd\n",
        "import os\n",
        "from keras.datasets import cifar10\n",
        "from keras.datasets import mnist\n",
        "import keras\n",
        "import matplotlib.pyplot as plt"
      ],
      "execution_count": 0,
      "outputs": [
        {
          "output_type": "display_data",
          "data": {
            "text/html": [
              "<p style=\"color: red;\">\n",
              "The default version of TensorFlow in Colab will soon switch to TensorFlow 2.x.<br>\n",
              "We recommend you <a href=\"https://www.tensorflow.org/guide/migrate\" target=\"_blank\">upgrade</a> now \n",
              "or ensure your notebook will continue to use TensorFlow 1.x via the <code>%tensorflow_version 1.x</code> magic:\n",
              "<a href=\"https://colab.research.google.com/notebooks/tensorflow_version.ipynb\" target=\"_blank\">more info</a>.</p>\n"
            ],
            "text/plain": [
              "<IPython.core.display.HTML object>"
            ]
          },
          "metadata": {
            "tags": []
          }
        },
        {
          "output_type": "stream",
          "text": [
            "Using TensorFlow backend.\n"
          ],
          "name": "stderr"
        }
      ]
    },
    {
      "cell_type": "code",
      "metadata": {
        "id": "C2yLimI0oFvM",
        "colab_type": "code",
        "colab": {}
      },
      "source": [
        "import numpy as np\n",
        "import pandas as pd\n",
        "import os\n",
        "import cv2\n",
        "import PIL\n",
        "import gc\n",
        "import psutil\n",
        "import matplotlib.pyplot as plt\n",
        "from sklearn.model_selection import train_test_split\n",
        "import tensorflow as tf\n",
        "from tensorflow import set_random_seed\n",
        "from tqdm import tqdm\n",
        "from math import ceil\n",
        "import math\n",
        "import sys\n",
        "import gc\n",
        "\n",
        "import keras\n",
        "from keras.preprocessing.image import ImageDataGenerator\n",
        "from keras.preprocessing.image import load_img\n",
        "from keras.preprocessing.image import array_to_img\n",
        "from keras.preprocessing.image import img_to_array"
      ],
      "execution_count": 0,
      "outputs": []
    },
    {
      "cell_type": "code",
      "metadata": {
        "colab_type": "code",
        "id": "tDGhTb0npot-",
        "colab": {}
      },
      "source": [
        "from tensorflow.keras.layers import Dense\n",
        "from tensorflow.keras.models import Sequential"
      ],
      "execution_count": 0,
      "outputs": []
    },
    {
      "cell_type": "code",
      "metadata": {
        "id": "xPocTblqm46u",
        "colab_type": "code",
        "colab": {}
      },
      "source": [
        "dir_path =  '/content/gdrive/My Drive/BME_Project_3_LCA_viz/data/'"
      ],
      "execution_count": 0,
      "outputs": []
    },
    {
      "cell_type": "code",
      "metadata": {
        "id": "ZbzFzZDBnfyV",
        "colab_type": "code",
        "colab": {}
      },
      "source": [
        "#Diabetic Retinopathy Data:\n",
        "\n",
        "df_train = pd.read_csv(os.path.join(dir_path, \"train.csv\"))"
      ],
      "execution_count": 0,
      "outputs": []
    },
    {
      "cell_type": "code",
      "metadata": {
        "id": "znKhcioLmRjo",
        "colab_type": "code",
        "colab": {}
      },
      "source": [
        "def append_ext(fn):\n",
        "    return fn+\".png\"\n",
        "\n",
        "df_train[\"id_code\"]= df_train[\"id_code\"].apply(append_ext)"
      ],
      "execution_count": 0,
      "outputs": []
    },
    {
      "cell_type": "code",
      "metadata": {
        "id": "n0YbKGACn6Mr",
        "colab_type": "code",
        "colab": {}
      },
      "source": [
        "#For some reason the generator wants diagnostic labels in string form:\n",
        "\n",
        "df_train['diagnosis'] = df_train['diagnosis'].astype(str)"
      ],
      "execution_count": 0,
      "outputs": []
    },
    {
      "cell_type": "code",
      "metadata": {
        "id": "UWXKUpdUoNFQ",
        "colab_type": "code",
        "colab": {}
      },
      "source": [
        "SEED = 7\n",
        "np.random.seed(SEED)\n",
        "set_random_seed(SEED)\n",
        "dir_path =  '/content/gdrive/My Drive/BME_Project_3_LCA_viz/data/'\n",
        "IMG_DIM = 299  # 224 399 #\n",
        "BATCH_SIZE = 12\n",
        "CHANNEL_SIZE = 3\n",
        "NUM_EPOCHS = 10\n",
        "TRAIN_DIR = 'train/'\n",
        "TEST_DIR = 'test/'\n",
        "FREEZE_LAYERS = 2  # freeze the first this many layers for training\n",
        "CLASS = {0: \"No DR\", 1: \"Mild\", 2: \"Moderate\", 3: \"Severe\", 4: \"Proliferative DR\"}"
      ],
      "execution_count": 0,
      "outputs": []
    },
    {
      "cell_type": "code",
      "metadata": {
        "id": "7XB7mhQVn7cr",
        "colab_type": "code",
        "colab": {}
      },
      "source": [
        "train_datagen = ImageDataGenerator(\n",
        "    rescale=1. / 255, \n",
        "    validation_split=0.20)"
      ],
      "execution_count": 0,
      "outputs": []
    },
    {
      "cell_type": "code",
      "metadata": {
        "id": "8DkWygO2n_TY",
        "colab_type": "code",
        "outputId": "94e986c6-e07e-408a-b8ba-666163b74bb3",
        "colab": {
          "base_uri": "https://localhost:8080/",
          "height": 34
        }
      },
      "source": [
        "train_generator = train_datagen.flow_from_dataframe(dataframe=df_train,\n",
        "                                                    directory= dir_path+TRAIN_DIR,\n",
        "                                                    x_col=\"id_code\",\n",
        "                                                    y_col=\"diagnosis\",\n",
        "                                                    batch_size=BATCH_SIZE,\n",
        "                                                    class_mode=\"sparse\",\n",
        "                                                    target_size=(IMG_DIM, IMG_DIM),\n",
        "                                                    subset='training',\n",
        "                                                    shuffle=True,\n",
        "                                                    seed=SEED,\n",
        "                                                    )"
      ],
      "execution_count": 0,
      "outputs": [
        {
          "output_type": "stream",
          "text": [
            "Found 2930 validated image filenames belonging to 5 classes.\n"
          ],
          "name": "stdout"
        }
      ]
    },
    {
      "cell_type": "code",
      "metadata": {
        "id": "8EMqERs3oke1",
        "colab_type": "code",
        "colab": {}
      },
      "source": [
        "#Take batch index 0, with size = BATCH_SIZE (set above)\n",
        "x_train, y_train = train_generator[0]"
      ],
      "execution_count": 0,
      "outputs": []
    },
    {
      "cell_type": "code",
      "metadata": {
        "id": "SmGQX01GssQy",
        "colab_type": "code",
        "outputId": "bbe3086a-109a-4f84-bb86-926c2c1329d5",
        "colab": {
          "base_uri": "https://localhost:8080/",
          "height": 34
        }
      },
      "source": [
        "x_train.shape"
      ],
      "execution_count": 0,
      "outputs": [
        {
          "output_type": "execute_result",
          "data": {
            "text/plain": [
              "(12, 299, 299, 3)"
            ]
          },
          "metadata": {
            "tags": []
          },
          "execution_count": 15
        }
      ]
    },
    {
      "cell_type": "code",
      "metadata": {
        "colab_type": "code",
        "id": "NupYpS5YpouH",
        "colab": {}
      },
      "source": [
        "vector_size = x_train.shape[1]*x_train.shape[2]*x_train.shape[3]\n",
        "x_train = x_train.reshape(x_train.shape[0], vector_size)"
      ],
      "execution_count": 0,
      "outputs": []
    },
    {
      "cell_type": "code",
      "metadata": {
        "colab_type": "code",
        "id": "J6ySCCQ5pouQ",
        "colab": {}
      },
      "source": [
        "num_classes = 5\n",
        "y_train = keras.utils.to_categorical(y_train, num_classes)\n",
        "#y_test = keras.utils.to_categorical(y_test, num_classes)"
      ],
      "execution_count": 0,
      "outputs": []
    },
    {
      "cell_type": "markdown",
      "metadata": {
        "id": "0JsrWdTr0fzK",
        "colab_type": "text"
      },
      "source": [
        "## MNIST VERSION DATA"
      ]
    },
    {
      "cell_type": "code",
      "metadata": {
        "id": "HvYmGUvS0e0D",
        "colab_type": "code",
        "outputId": "c058787a-df8c-4bb8-feff-5a5c73203303",
        "colab": {
          "base_uri": "https://localhost:8080/",
          "height": 51
        }
      },
      "source": [
        "(x_train, y_train), (x_test, y_test) = mnist.load_data()\n",
        "\n",
        "vector_size = x_train.shape[1]*x_train.shape[2]\n",
        "x_train = x_train.reshape(x_train.shape[0], vector_size)\n",
        "x_test = x_test.reshape(x_test.shape[0], vector_size)"
      ],
      "execution_count": 0,
      "outputs": [
        {
          "output_type": "stream",
          "text": [
            "Downloading data from https://s3.amazonaws.com/img-datasets/mnist.npz\n",
            "11493376/11490434 [==============================] - 1s 0us/step\n"
          ],
          "name": "stdout"
        }
      ]
    },
    {
      "cell_type": "code",
      "metadata": {
        "id": "8mRBocuT1FIK",
        "colab_type": "code",
        "colab": {}
      },
      "source": [
        "num_classes = 10\n",
        "y_train = keras.utils.to_categorical(y_train, num_classes)\n",
        "y_test = keras.utils.to_categorical(y_test, num_classes)"
      ],
      "execution_count": 0,
      "outputs": []
    },
    {
      "cell_type": "markdown",
      "metadata": {
        "id": "qb0AAhOI1qSB",
        "colab_type": "text"
      },
      "source": [
        "## Run LCA on Model"
      ]
    },
    {
      "cell_type": "code",
      "metadata": {
        "colab_type": "code",
        "id": "oUUGAJCNpouW",
        "colab": {}
      },
      "source": [
        "def calculate_LCA(grads, current_weights, old_weights):\n",
        "    LCA = grads*(current_weights - old_weights)\n",
        "    return LCA"
      ],
      "execution_count": 0,
      "outputs": []
    },
    {
      "cell_type": "code",
      "metadata": {
        "id": "vasYmzFeWzmH",
        "colab_type": "code",
        "outputId": "e2ee7f1f-89cf-45a9-be7c-85a86623bb11",
        "colab": {
          "base_uri": "https://localhost:8080/",
          "height": 1000
        }
      },
      "source": [
        "gradient1 = []\n",
        "gradient2 = []\n",
        "gradient_out = []\n",
        "weights1 = []\n",
        "weights2 = []\n",
        "weights_out = []\n",
        "all_loss = []\n",
        "LCA_1 = []\n",
        "LCA_2 = []\n",
        "LCA_out = []\n",
        "hidden_nodes = 25\n",
        "#x = tf.placeholder(shape=[None, vector_size], dtype=tf.float32, name='x')\n",
        "#y = tf.placeholder(shape=[None, num_classes], dtype=tf.float32, name='y')\n",
        "\n",
        "X = tf.placeholder(\"float\", [None, vector_size])\n",
        "Y = tf.placeholder(\"float\", [None, num_classes])\n",
        "keep_prob = tf.placeholder(tf.float32)\n",
        "\n",
        "weights = {\n",
        "    'w1': tf.Variable(tf.truncated_normal([vector_size, hidden_nodes], stddev=0.1)),\n",
        "    'w2': tf.Variable(tf.truncated_normal([hidden_nodes, hidden_nodes], stddev=0.1)),\n",
        "    'out': tf.Variable(tf.truncated_normal([hidden_nodes, num_classes], stddev=0.1)),\n",
        "}\n",
        "\n",
        "biases = {\n",
        "    'b1': tf.Variable(tf.constant(0.1, shape=[hidden_nodes])),\n",
        "    'b2': tf.Variable(tf.constant(0.1, shape=[hidden_nodes])),\n",
        "    'out': tf.Variable(tf.constant(0.1, shape=[num_classes]))\n",
        "}\n",
        "\n",
        "\n",
        "layer_1 = tf.add(tf.matmul(X, weights['w1']), biases['b1'])\n",
        "layer_2 = tf.add(tf.matmul(layer_1, weights['w2']), biases['b2'])\n",
        "layer_drop = tf.nn.dropout(layer_2, keep_prob)\n",
        "output_layer = tf.matmul(layer_2, weights['out']) + biases['out']\n",
        "\n",
        "#a1 = tf.nn.relu(tf.matmul(x, w1))\n",
        "#y_est = tf.nn.softmax(tf.matmul(a1, w2))\n",
        "\n",
        "#loss = tf.keras.losses.categorical_crossentropy(Y, output_layer)\n",
        "loss = tf.reduce_mean(\n",
        "    tf.nn.softmax_cross_entropy_with_logits(\n",
        "        labels=Y, logits=output_layer\n",
        "        ))\n",
        "\n",
        "optimizer = tf.train.AdamOptimizer(0.1)\n",
        "train = optimizer.minimize(loss)\n",
        "\n",
        "#optimizer = tf.train.GradientDescentOptimizer(0.005)\n",
        "(_, grads1), (_, grads2), (_, grads_out) = optimizer.compute_gradients(loss, [weights['w1'], weights['w2'], weights['out']])\n",
        "\n",
        "#train = optimizer.minimize(loss)\n",
        "\n",
        "cost = tf.reduce_mean(tf.nn.softmax_cross_entropy_with_logits(logits=output_layer, labels=Y))\n",
        "\n",
        "correct_pred = tf.equal(tf.argmax(output_layer, 1), tf.argmax(Y, 1))\n",
        "accuracy = tf.reduce_mean(tf.cast(correct_pred, tf.float32))\n",
        "\n",
        "init = tf.global_variables_initializer()\n",
        "sess = tf.Session()\n",
        "sess.run(init)\n",
        "#print('Layer 1', sess.run(tf.shape(layer_1)))\n",
        "\n",
        "iters = 50\n",
        "for i in range(iters):\n",
        "    # grad1_i, grad2_i, grad_out, w1_i, w2_i, wo_i, current_loss, current_acc, _ = sess.run([grads1, grads2, grads_out, weights['w1'], weights['w2'],weights['out'],\n",
        "    #                                                           loss, accuracy, train], feed_dict={X: x_train, Y: y_train})\n",
        "    _, _, _, _, _, _, current_loss, current_acc, _ = sess.run([grads1, grads2, grads_out, weights['w1'], weights['w2'],weights['out'],\n",
        "                                                            loss, accuracy, train], feed_dict={X: x_train, Y: y_train})\n",
        "    variables = tf.trainable_variables()\n",
        "    #print(variables)\n",
        "    weights1.append(sess.run(weights['w1']))\n",
        "    weights2.append(sess.run(weights['w2']))\n",
        "    weights_out.append(sess.run(weights['out']))\n",
        "    layer1_grad = sess.run(grads1, feed_dict={X: x_train, Y: y_train})\n",
        "    layer2_grad = sess.run(grads2, feed_dict={X: x_train, Y: y_train})\n",
        "    layer_out_grad = sess.run(grads_out, feed_dict={X: x_train, Y: y_train})\n",
        "    all_loss.append(sess.run(loss, feed_dict={X: x_train, Y: y_train}))\n",
        "    gradient1.append(layer1_grad)\n",
        "    gradient2.append(layer2_grad)\n",
        "    gradient_out.append(layer_out_grad)\n",
        "    if i > 0:\n",
        "      #LCA_array[i] = calculate_LCA(gradient1[i], weights1[i], weights1[i-1])\n",
        "      LCA_1.append(calculate_LCA(gradient1[i], weights1[i], weights1[i-1]))\n",
        "      LCA_2.append(calculate_LCA(gradient2[i], weights2[i], weights2[i-1])) \n",
        "      LCA_out.append(calculate_LCA(gradient_out[i], weights_out[i], weights_out[i-1]))     \n",
        "    print(current_acc)\n",
        "    print(current_loss)"
      ],
      "execution_count": 0,
      "outputs": [
        {
          "output_type": "stream",
          "text": [
            "WARNING:tensorflow:From <ipython-input-19-93d9fd06e830>:34: calling dropout (from tensorflow.python.ops.nn_ops) with keep_prob is deprecated and will be removed in a future version.\n",
            "Instructions for updating:\n",
            "Please use `rate` instead of `keep_prob`. Rate should be set to `rate = 1 - keep_prob`.\n",
            "WARNING:tensorflow:From <ipython-input-19-93d9fd06e830>:43: softmax_cross_entropy_with_logits (from tensorflow.python.ops.nn_ops) is deprecated and will be removed in a future version.\n",
            "Instructions for updating:\n",
            "\n",
            "Future major versions of TensorFlow will allow gradients to flow\n",
            "into the labels input on backprop by default.\n",
            "\n",
            "See `tf.nn.softmax_cross_entropy_with_logits_v2`.\n",
            "\n",
            "0.25\n",
            "1.7880297\n",
            "0.25\n",
            "2832.9656\n",
            "0.6666667\n",
            "22048.334\n",
            "0.083333336\n",
            "21658.752\n",
            "0.0\n",
            "64766.22\n",
            "0.25\n",
            "32218.896\n",
            "0.16666667\n",
            "18082.51\n",
            "0.25\n",
            "5198.931\n",
            "0.5\n",
            "7554.906\n",
            "0.5\n",
            "4024.091\n",
            "0.0\n",
            "18844.066\n",
            "0.25\n",
            "2292.6357\n",
            "0.5\n",
            "12767.5205\n",
            "0.5\n",
            "17699.018\n",
            "0.5\n",
            "10646.614\n",
            "0.16666667\n",
            "16253.8\n",
            "0.25\n",
            "14998.969\n",
            "0.25\n",
            "7870.5034\n",
            "0.5\n",
            "7165.3335\n",
            "0.5\n",
            "8947.224\n",
            "0.25\n",
            "5916.768\n",
            "0.5\n",
            "5076.0146\n",
            "0.5\n",
            "1324.4828\n",
            "0.0\n",
            "24466.287\n",
            "0.41666666\n",
            "1890.3037\n",
            "0.5\n",
            "4753.2183\n",
            "0.5\n",
            "5946.611\n",
            "0.6666667\n",
            "2905.7039\n",
            "0.25\n",
            "13862.886\n",
            "0.25\n",
            "7642.4507\n",
            "0.75\n",
            "1816.746\n",
            "0.6666667\n",
            "5365.727\n",
            "0.75\n",
            "7164.434\n",
            "0.75\n",
            "7220.738\n",
            "0.6666667\n",
            "6778.6187\n",
            "0.6666667\n",
            "4711.028\n",
            "0.75\n",
            "2347.6216\n",
            "0.6666667\n",
            "682.65753\n",
            "0.25\n",
            "6342.114\n",
            "0.5833333\n",
            "1579.6578\n",
            "0.6666667\n",
            "1380.7072\n",
            "0.9166667\n",
            "1297.6217\n",
            "0.75\n",
            "1697.0044\n",
            "0.75\n",
            "1791.2958\n",
            "0.75\n",
            "1240.7638\n",
            "0.8333333\n",
            "336.64023\n",
            "1.0\n",
            "0.0\n",
            "0.9166667\n",
            "330.73145\n",
            "0.6666667\n",
            "1271.933\n",
            "0.6666667\n",
            "1019.4971\n"
          ],
          "name": "stdout"
        }
      ]
    },
    {
      "cell_type": "markdown",
      "metadata": {
        "id": "YNmaLMgM6647",
        "colab_type": "text"
      },
      "source": [
        "##Plotting Functions"
      ]
    },
    {
      "cell_type": "code",
      "metadata": {
        "id": "iQI67mgg4JF6",
        "colab_type": "code",
        "colab": {}
      },
      "source": [
        "import matplotlib.pyplot as plt\n",
        "import matplotlib as mpl\n",
        "from matplotlib.colors import LogNorm\n",
        "from matplotlib.colors import LinearSegmentedColormap\n",
        "from matplotlib.backends.backend_pdf import PdfPages\n",
        "\n",
        "import numpy as np\n",
        "import h5py\n",
        "import os\n",
        "import math\n",
        "import time\n",
        "from scipy import stats\n",
        "from scipy.spatial import distance\n",
        "from scipy.ndimage import gaussian_filter1d\n",
        "from scipy.stats import dweibull\n",
        "from ast import literal_eval\n",
        "\n",
        "\n",
        "######################################## helpers ########################################\n",
        "\n",
        "# concatenate arrays from multiple gpus (different keys in the same file)\n",
        "def concat_arrays(hf, keyroot):\n",
        "    grads = np.array(hf['{}_0'.format(keyroot)])\n",
        "    for i in range(1, 4):\n",
        "        nextkey = '{}_{}'.format(keyroot, i)\n",
        "        if nextkey in hf.keys():\n",
        "            grads = np.concatenate((grads, hf[nextkey][1:]))\n",
        "    return grads\n",
        "\n",
        "# return loss curve based on starting loss and the LCA totals\n",
        "def get_approx_loss(loss, helped):\n",
        "    return loss[0] + np.concatenate((np.array([0]), np.cumsum(helped.sum(axis=1))))\n",
        "    \n",
        "def get_approx_loss_2(loss, helped):\n",
        "    return loss[0] + helped.sum(axis=1)\n",
        "# e.g. [1, 4, 2, 4, 1] for num_splits = 4\n",
        "def get_rk_coeffs(num_splits):\n",
        "    coeffs = np.ones(num_splits + 1)\n",
        "    coeffs[1::2] = 4\n",
        "    coeffs[2:-1:2] = 2\n",
        "    return coeffs\n",
        "\n",
        "def get_lca_rk_adaptive(weights, gradients, splits_per_iter):\n",
        "    helped = np.zeros((weights.shape[0] - 1, weights.shape[1]))\n",
        "    coeffs = {}\n",
        "    for i in [2, 4, 8, 16, 32]:\n",
        "        coeffs[i] = get_rk_coeffs(i)\n",
        "\n",
        "    grads_ind = 0\n",
        "    for ts in range(weights.shape[0] - 1):\n",
        "        num_splits = splits_per_iter[ts]\n",
        "        split_gradients = gradients[grads_ind:grads_ind + num_splits + 1]\n",
        "        grads_ind += num_splits\n",
        "        k = np.matmul(coeffs[num_splits], split_gradients) / coeffs[num_splits].sum()\n",
        "        helped[ts] = np.multiply(k, weights[ts + 1] - weights[ts])\n",
        "    return helped\n",
        "\n",
        "# returns list of variables as np arrays in their original shape\n",
        "def split_and_shape(one_time_slice, shapes):\n",
        "    variables = []\n",
        "    offset = 0\n",
        "    for shape in shapes:\n",
        "        num_params = np.prod(shape)\n",
        "        variables.append(one_time_slice[offset : offset + num_params].reshape(shape))\n",
        "        offset += num_params\n",
        "    return variables\n",
        "\n",
        "# get neurons, given either a 2d fc layer or a 4d conv layer\n",
        "def get_neurons(layer):\n",
        "    return np.sum(layer, axis=tuple(range(len(layer.shape) - 1)))\n",
        "\n",
        "# This assumes all layers have a bias layer immediately after it\n",
        "# returns list. each element is a vector\n",
        "def get_neurons_plus_biases(split_vars):  # flattened and joined\n",
        "    layers = []\n",
        "    for i in range(int(len(split_vars)/2)):\n",
        "        layers.append(get_neurons(split_vars[2*i]) + split_vars[2*i + 1].flatten())\n",
        "    return layers\n",
        "\n",
        "# generate for each layer (in a list) a N x T matrix where T = total iterations, N = number of neurons\n",
        "def get_neuron_trajs_all_layers(helped, shapes):\n",
        "    neuron_trajs = get_neurons_plus_biases(split_and_shape(helped[0], shapes))\n",
        "    for i, layer in enumerate(neuron_trajs):\n",
        "        neuron_trajs[i] = layer.reshape(-1, 1)\n",
        "    for ts in range(1, helped.shape[0]):\n",
        "        curneurons = get_neurons_plus_biases(split_and_shape(helped[ts], shapes))\n",
        "        for i in range(len(neuron_trajs)):\n",
        "            neuron_trajs[i] = np.concatenate((neuron_trajs[i], curneurons[i].reshape(-1, 1)), axis=1)\n",
        "    return neuron_trajs\n",
        "\n",
        "def save_or_show(plot_dest):\n",
        "    '''Save figure or show it. Allowable destinations and actions:\n",
        "    Instance of PdfPages: write page to pdf\n",
        "    String like \"/home/user/results/foo\": write /home/user/results/foo.pdf and /home/user/results/foo.png\n",
        "    None: display instead of writing.\n",
        "    '''\n",
        "    if isinstance(plot_dest, PdfPages):\n",
        "        plot_dest.savefig()\n",
        "        plt.close()\n",
        "    elif isinstance(plot_dest, str):\n",
        "        plt.savefig('%s.png' % plot_dest)\n",
        "        plt.savefig('%s.pdf' % plot_dest)\n",
        "        plt.close()\n",
        "    elif plot_dest is None:\n",
        "        plt.show()\n",
        "    else:\n",
        "        raise Exception('Not sure what to do with this plot destination: %s' % repr(plot_dest))\n",
        "\n",
        "######################################## plotters for notebooks ########################################\n",
        "\n",
        "# plots approx loss based on rk4, returns diff per iter\n",
        "def plot_approx_loss(loss, helped, plot_dest=None):\n",
        "    fig, ax1 = plt.subplots(figsize=(20,10))\n",
        "    ax1.plot(np.array(loss), label='actual loss')\n",
        "    approx_loss = np.array(get_approx_loss(loss, helped))\n",
        "    ax1.plot(approx_loss, label='sum approx loss')\n",
        "    ax1.set_xlabel('iterations')\n",
        "    ax1.set_ylabel('loss')\n",
        "    ax1.legend()\n",
        "\n",
        "    relative_err = abs(((approx_loss[-1] - approx_loss[0]) - (loss[-1] - loss[0])) / (loss[-1] - loss[0]))\n",
        "\n",
        "    diff = np.array(loss[:len(approx_loss)]) - approx_loss\n",
        "    diff_per_iter = [diff[i+1] - diff[i] for i in range(len(diff) - 1)]\n",
        "    ax2 = ax1.twinx()\n",
        "    ax2.plot(diff_per_iter, 'C1', alpha=0.5, linewidth=0.5, marker='.', markersize=1)\n",
        "    ax2.set_ylabel('diff per iteration')\n",
        "    plt.title('true and approximated loss (err %.2f%%)' % (relative_err * 100))\n",
        "    save_or_show(plot_dest)\n",
        "    if not plot_dest:\n",
        "        plt.hist(diff_per_iter, bins=50)\n",
        "        plt.show()\n",
        "        print(np.std(diff_per_iter))\n",
        "\n",
        "    return np.array(diff_per_iter)\n",
        "\n",
        "# kinda a subset of save_layer_train_test below...\n",
        "# plots total helped per kernel layer and all layers\n",
        "def plot_total_layers(total_helped, names, shapes, plot_dest=None):\n",
        "    layer_indices = np.append(0, np.cumsum([np.prod(shape) for shape in shapes]))\n",
        "    total_kernels = []\n",
        "    total_all = []\n",
        "    for i, name in enumerate(names):\n",
        "        startind, endind = layer_indices[i], layer_indices[i+1]\n",
        "        layer_total = total_helped[startind:endind].sum()\n",
        "        total_all.append(layer_total)\n",
        "        if not ('batch_norm' in name or 'bias' in name):\n",
        "            total_kernels.append(layer_total)\n",
        "    print('Bias and batch norm layers helped {} percent of total'.format(\n",
        "        100 * (1 - np.sum(total_kernels) / np.sum(total_all))))\n",
        "\n",
        "    # TODO make nice stacked chart over time\n",
        "    plt.figure(figsize=(12, 4))\n",
        "    plt.subplot(1, 2, 1)\n",
        "    plt.bar(range(len(total_kernels)), total_kernels)\n",
        "    plt.axhline(0, c='k', linestyle=':')\n",
        "    plt.title('Kernel layers')\n",
        "    plt.xlabel('Layer')\n",
        "    plt.ylabel('LCA per layer')\n",
        "\n",
        "    plt.subplot(1, 2, 2)\n",
        "    plt.bar(range(len(total_all)), total_all)\n",
        "    plt.axhline(0, c='k', linestyle=':')\n",
        "    plt.title('All layers')\n",
        "    plt.xlabel('Layer')\n",
        "    plt.ylabel('LCA per layer')\n",
        "    save_or_show(plot_dest)\n",
        "\n",
        "def plot_total_layers_revised(lca_1, lca_2, lca_out, plot_dest=None):\n",
        "    #layer_indices = np.append(0, np.cumsum([np.prod(shape) for shape in shapes]))\n",
        "    total_kernels = []\n",
        "    total_all = []\n",
        "    for name in [lca_1, lca_2, lca_out]:\n",
        "        #startind, endind = layer_indices[i], layer_indices[i+1]\n",
        "        layer_total = name.sum()\n",
        "        total_all.append(layer_total)\n",
        "        if not ('batch_norm' in name or 'bias' in name):\n",
        "            total_kernels.append(layer_total)\n",
        "\n",
        "    # TODO make nice stacked chart over time\n",
        "    plt.figure(figsize=(12, 4))\n",
        "    plt.subplot(1, 2, 1)\n",
        "    plt.bar(range(len(total_kernels)), total_kernels)\n",
        "    plt.axhline(0, c='k', linestyle=':')\n",
        "    plt.title('Kernel layers')\n",
        "    plt.xlabel('Layer')\n",
        "    plt.ylabel('LCA per layer')\n",
        "\n",
        "    plt.subplot(1, 2, 2)\n",
        "    plt.bar(range(len(total_all)), total_all)\n",
        "    plt.axhline(0, c='k', linestyle=':')\n",
        "    plt.title('All layers')\n",
        "    plt.xlabel('Layer')\n",
        "    plt.ylabel('LCA per layer')\n",
        "    save_or_show(plot_dest)\n",
        "\n",
        "def percent_helped_histograms(helped, plot_dest=None):\n",
        "    # histogram of how many params helped, over each iteration\n",
        "    negatives = helped < 0\n",
        "    params_per_iter = negatives.sum(axis=1)\n",
        "    plt.figure(figsize=(20,10))\n",
        "    plt.subplot(1, 2, 1)\n",
        "    plt.hist(params_per_iter)\n",
        "    plt.xlabel('params helped per iteration')\n",
        "    plt.ylabel('number of iterations')\n",
        "    plt.title('Mean = {:.2f}, stdev = {:.2f}'.format(params_per_iter.mean(), params_per_iter.std()))\n",
        "\n",
        "    # histogram of how many iters helped, over each parameter\n",
        "    iters_per_param = negatives.sum(axis=0)\n",
        "    plt.subplot(1, 2, 2)\n",
        "    plt.hist(iters_per_param, bins=50)\n",
        "    plt.xlabel('iterations helped per param')\n",
        "    plt.ylabel('number of params')\n",
        "    plt.title('Mean = {:.2f}, stdev = {:.2f}'.format(iters_per_param.mean(), iters_per_param.std()))\n",
        "    save_or_show(plot_dest)\n",
        "    plt.show()\n",
        "\n",
        "def percent_helped_histograms_revised(helped, shape, plot_dest=None):\n",
        "    # histogram of how many params helped, over each iteration\n",
        "    negatives = helped < 0\n",
        "    params_per_iter = negatives.sum(axis=2)\n",
        "    params_per_iter_total = params_per_iter.sum(axis=1)\n",
        "    params_percent = (params_per_iter_total / shape) * 100\n",
        "    plt.figure(figsize=(20,10))\n",
        "    plt.subplot(1, 2, 1)\n",
        "    plt.hist(params_percent)\n",
        "    plt.xlabel('percent of params helped per iteration')\n",
        "    plt.ylabel('number of iterations')\n",
        "    plt.title('Mean = {:.2f}, stdev = {:.2f}'.format(params_percent.mean(), params_percent.std()))\n",
        "\n",
        "    # histogram of how many iters helped, over each parameter\n",
        "    iters_per_param = negatives.sum(axis=2)\n",
        "    iters_per_param_total = iters_per_param.sum(axis=0)\n",
        "    iters_percent = (iters_per_param_total / 49)   \n",
        "    plt.subplot(1, 2, 2)\n",
        "    plt.hist(iters_percent)\n",
        "    plt.xlabel('percent of iterations helped per param')\n",
        "    plt.ylabel('number of params')\n",
        "    plt.title('Mean = {:.2f}, stdev = {:.2f}'.format(iters_percent.mean(), iters_percent.std()))\n",
        "    save_or_show(plot_dest)\n",
        "    plt.show()\n",
        "    \n",
        "# helped train and test trajectories (cumulative) for each layer\n",
        "def plot_trajectory_per_layer(helped, names, shapes, helped_test=None, layer_inds=[], iters=-1, plot_dest=None):\n",
        "    if iters == -1:\n",
        "        iters = helped.shape[0]\n",
        "    if len(layer_inds) == 0:\n",
        "        layer_inds = range(len(names))\n",
        "    layer_indices = np.append(0, np.cumsum([np.prod(shape) for shape in shapes]))\n",
        "    for i, name in enumerate(names):\n",
        "        if i not in layer_inds:\n",
        "            continue\n",
        "        startind, endind = layer_indices[i], layer_indices[i+1]\n",
        "        traj = np.cumsum(helped[:, startind:endind].sum(axis=1))\n",
        "        plt.plot(traj[:iters])\n",
        "\n",
        "        print(name, np.argsort(traj)[:10])\n",
        "        if helped_test:\n",
        "            plt.plot(np.cumsum(helped_test[:iters, startind:endind].sum(axis=1))) # can also plot overfit here instead\n",
        "\n",
        "        plt.axhline(0, c='k', linestyle=':')\n",
        "        plt.xlabel('iterations')\n",
        "        plt.ylabel('LCA, summed over parameters')\n",
        "        plt.title(name)\n",
        "        if isinstance(plot_dest, str):\n",
        "            save_or_show('%s_%02d' % (plot_dest, i))\n",
        "        else:\n",
        "            save_or_show(plot_dest)\n",
        "\n",
        "# plot how much each neuron helped, each iteration. Large 2d plot for each layer\n",
        "def plot_neurons_all_time(neuron_trajs, names, color_percentile=99, plot_dest=None):\n",
        "    # custom color map matching the green and red used in other plots\n",
        "    # red is negative and green is positive because default colormaps are like that\n",
        "    cdict = {'red':   [[0.0,  0.4, 0.4],\n",
        "                       [0.4,  1.0, 1.0],\n",
        "                       [0.5,  1.0, 1.0],\n",
        "                       [1.0,  0.0, 0.0]],\n",
        "             'green': [[0.0,  0.0, 0.0],\n",
        "                       [0.5,  1.0, 1.0],\n",
        "                       [0.6,  1.0, 1.0],\n",
        "                       [1.0,  0.3, 0.3]],\n",
        "             'blue':  [[0.0,  0.0, 0.0],\n",
        "                       [0.5,  1.0, 1.0],\n",
        "                       [1.0,  0.0, 0.0]]}\n",
        "    custom_cmap = LinearSegmentedColormap('lc', segmentdata=cdict) # previously used PiYG\n",
        "\n",
        "    for i, layer in enumerate(neuron_trajs):\n",
        "        #if 'batch_norm' in names[2 * i]:\n",
        "        #    continue\n",
        "        fig_height = min(3 + int(layer.shape[0] / 20), 15)\n",
        "        plt.figure(figsize=(15, fig_height))\n",
        "        cmap_range = np.percentile(np.absolute(layer), color_percentile)\n",
        "        # sorted_layer = sorted(list(layer.T), key=lambda x: np.average(np.arange(len(x)), weights=np.abs(x)))\n",
        "        plt.imshow(-layer, cmap=custom_cmap, vmin=-cmap_range, vmax=cmap_range, aspect='auto')\n",
        "        plt.xlabel('iterations')\n",
        "        plt.ylabel('neurons')\n",
        "        plt.title(names[2 * i])\n",
        "        if isinstance(plot_dest, str):\n",
        "            save_or_show('%s_%02d' % (plot_dest, i))\n",
        "        else:\n",
        "            save_or_show(plot_dest)\n",
        "\n",
        "def plot_trajectories_per_layer(helped, shapes, names, plot_dest=None):\n",
        "    offset = 0\n",
        "    for i, shape in enumerate(shapes):\n",
        "        # layer shape is (iteration, all params in layer flattened)\n",
        "        num_params = np.prod(shape)\n",
        "        layer = helped[:, offset : offset + num_params].cumsum(axis=0)\n",
        "        offset += num_params\n",
        "\n",
        "        bestinds = np.argsort(layer[-1])[:50]\n",
        "        randinds = np.random.choice(layer.shape[1], size=min(50, layer.shape[1]), replace=False)\n",
        "        best_trajs = layer[:, bestinds].T\n",
        "        rand_trajs = layer[:, randinds].T\n",
        "        plt.figure(figsize=(12, 4))\n",
        "        plt.subplot(1, 2, 1)\n",
        "        for j, traj in enumerate(best_trajs):\n",
        "            plt.plot(np.concatenate((np.array([0]), traj)), alpha=0.5) # label=bestinds[j])\n",
        "        plt.xlabel('iterations')\n",
        "        plt.ylabel('cumulative helped')\n",
        "        plt.subplot(1, 2, 2)\n",
        "        for j, traj in enumerate(rand_trajs):\n",
        "            plt.plot(np.concatenate((np.array([0]), traj)), alpha=0.5)\n",
        "        plt.xlabel('iterations')\n",
        "        plt.ylabel('cumulative helped')\n",
        "        plt.suptitle(names[i])\n",
        "        #plt.tight_layout()\n",
        "        if isinstance(plot_dest, str):\n",
        "            save_or_show('%s_%02d' % (plot_dest, i))\n",
        "        else:\n",
        "            save_or_show(plot_dest)"
      ],
      "execution_count": 0,
      "outputs": []
    },
    {
      "cell_type": "markdown",
      "metadata": {
        "id": "GcU-9_Mk7CNb",
        "colab_type": "text"
      },
      "source": [
        "## Plots"
      ]
    },
    {
      "cell_type": "code",
      "metadata": {
        "id": "feFI5AqZ4pcG",
        "colab_type": "code",
        "colab": {}
      },
      "source": [
        "lca_1 = np.array(LCA_1)\n",
        "lca_2 = np.array(LCA_2)\n",
        "lca_out = np.array(LCA_out)"
      ],
      "execution_count": 0,
      "outputs": []
    },
    {
      "cell_type": "markdown",
      "metadata": {
        "id": "crA9xe_u7TXJ",
        "colab_type": "text"
      },
      "source": [
        "### Percent Helped per Iteration"
      ]
    },
    {
      "cell_type": "code",
      "metadata": {
        "id": "-3qCHR9I28Y7",
        "colab_type": "code",
        "outputId": "35427b39-ad5a-4fab-9ea2-c769862b2729",
        "colab": {
          "base_uri": "https://localhost:8080/",
          "height": 621
        }
      },
      "source": [
        "percent_helped_histograms(lca_1)"
      ],
      "execution_count": 0,
      "outputs": [
        {
          "output_type": "display_data",
          "data": {
            "image/png": "[encoded data removed]",
            "text/plain": [
              "<Figure size 1440x720 with 2 Axes>"
            ]
          },
          "metadata": {
            "tags": []
          }
        }
      ]
    },
    {
      "cell_type": "code",
      "metadata": {
        "id": "eYeCN-ca7jKK",
        "colab_type": "code",
        "colab": {}
      },
      "source": [
        "#Layer 1 params:\n",
        "\n",
        "params_lca_1 = vector_size * hidden_nodes"
      ],
      "execution_count": 0,
      "outputs": []
    },
    {
      "cell_type": "code",
      "metadata": {
        "id": "rkYjXyzi7hRO",
        "colab_type": "code",
        "outputId": "148c52b8-5485-4e71-c593-314ad16e154d",
        "colab": {
          "base_uri": "https://localhost:8080/",
          "height": 621
        }
      },
      "source": [
        "percent_helped_histograms_revised(lca_1, params_lca_1)"
      ],
      "execution_count": 0,
      "outputs": [
        {
          "output_type": "display_data",
          "data": {
            "image/png": "[encoded data removed]",
            "text/plain": [
              "<Figure size 1440x720 with 2 Axes>"
            ]
          },
          "metadata": {
            "tags": []
          }
        }
      ]
    },
    {
      "cell_type": "code",
      "metadata": {
        "id": "ytbfT6Go51fU",
        "colab_type": "code",
        "outputId": "c4230c13-508c-4a9c-d0ba-6cc37b388d2d",
        "colab": {
          "base_uri": "https://localhost:8080/",
          "height": 621
        }
      },
      "source": [
        "percent_helped_histograms(lca_2)"
      ],
      "execution_count": 0,
      "outputs": [
        {
          "output_type": "display_data",
          "data": {
            "image/png": "[encoded data removed]",
            "text/plain": [
              "<Figure size 1440x720 with 2 Axes>"
            ]
          },
          "metadata": {
            "tags": []
          }
        }
      ]
    },
    {
      "cell_type": "code",
      "metadata": {
        "id": "vMZD2UfJ8CxX",
        "colab_type": "code",
        "colab": {}
      },
      "source": [
        "#Layer 2 params:\n",
        "params_lca_2 = hidden_nodes * hidden_nodes\n"
      ],
      "execution_count": 0,
      "outputs": []
    },
    {
      "cell_type": "code",
      "metadata": {
        "id": "TKdkyBu48TKq",
        "colab_type": "code",
        "outputId": "ee9c514d-d41b-4a1e-f0a5-b0dc6897a43c",
        "colab": {
          "base_uri": "https://localhost:8080/",
          "height": 621
        }
      },
      "source": [
        "percent_helped_histograms_revised(lca_2, params_lca_2)"
      ],
      "execution_count": 0,
      "outputs": [
        {
          "output_type": "display_data",
          "data": {
            "image/png": "[encoded data removed]",
            "text/plain": [
              "<Figure size 1440x720 with 2 Axes>"
            ]
          },
          "metadata": {
            "tags": []
          }
        }
      ]
    },
    {
      "cell_type": "code",
      "metadata": {
        "id": "uWSBBcz67M1t",
        "colab_type": "code",
        "outputId": "5ee46590-95e3-4dbc-d3b4-e6181b37c92f",
        "colab": {
          "base_uri": "https://localhost:8080/",
          "height": 621
        }
      },
      "source": [
        "percent_helped_histograms(lca_out)"
      ],
      "execution_count": 0,
      "outputs": [
        {
          "output_type": "display_data",
          "data": {
            "image/png": "[encoded data removed]",
            "text/plain": [
              "<Figure size 1440x720 with 2 Axes>"
            ]
          },
          "metadata": {
            "tags": []
          }
        }
      ]
    },
    {
      "cell_type": "code",
      "metadata": {
        "id": "82fvvbT98csY",
        "colab_type": "code",
        "colab": {}
      },
      "source": [
        "#Layer out params:\n",
        "\n",
        "params_lca_out = hidden_nodes * num_classes"
      ],
      "execution_count": 0,
      "outputs": []
    },
    {
      "cell_type": "code",
      "metadata": {
        "id": "SVI3_QA48cw6",
        "colab_type": "code",
        "outputId": "f8beb9b1-53ba-429f-a99b-9eb1a6ff5c59",
        "colab": {
          "base_uri": "https://localhost:8080/",
          "height": 621
        }
      },
      "source": [
        "percent_helped_histograms_revised(lca_out, params_lca_out)"
      ],
      "execution_count": 0,
      "outputs": [
        {
          "output_type": "display_data",
          "data": {
            "image/png": "[encoded data removed]",
            "text/plain": [
              "<Figure size 1440x720 with 2 Axes>"
            ]
          },
          "metadata": {
            "tags": []
          }
        }
      ]
    }
  ]
}