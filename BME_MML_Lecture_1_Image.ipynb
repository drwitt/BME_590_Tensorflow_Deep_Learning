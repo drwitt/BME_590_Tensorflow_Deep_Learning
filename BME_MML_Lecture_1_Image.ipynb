{
  "nbformat": 4,
  "nbformat_minor": 0,
  "metadata": {
    "colab": {
      "name": "BME MML Lecture 1 Image.ipynb",
      "version": "0.3.2",
      "provenance": [],
      "include_colab_link": true
    },
    "kernelspec": {
      "name": "python3",
      "display_name": "Python 3"
    },
    "accelerator": "TPU"
  },
  "cells": [
    {
      "cell_type": "markdown",
      "metadata": {
        "id": "view-in-github",
        "colab_type": "text"
      },
      "source": [
        "<a href=\"https://colab.research.google.com/github/drwitt/BME_590_Tensorflow_Deep_Learning/blob/master/BME_MML_Lecture_1_Image.ipynb\" target=\"_parent\"><img src=\"https://colab.research.google.com/assets/colab-badge.svg\" alt=\"Open In Colab\"/></a>"
      ]
    },
    {
      "cell_type": "code",
      "metadata": {
        "id": "_A0PEhIgd-nB",
        "colab_type": "code",
        "colab": {}
      },
      "source": [
        "!pip3 install tensorflow_datasets\n",
        "!pip3 install tensorflow-gpu==2.0.0-rc0"
      ],
      "execution_count": 0,
      "outputs": []
    },
    {
      "cell_type": "code",
      "metadata": {
        "id": "pyWe_Gg12EKk",
        "colab_type": "code",
        "colab": {}
      },
      "source": [
        "!nvidia-smi"
      ],
      "execution_count": 0,
      "outputs": []
    },
    {
      "cell_type": "code",
      "metadata": {
        "id": "Af2H6HXYBY8o",
        "colab_type": "code",
        "colab": {}
      },
      "source": [
        "import tensorflow as tf\n",
        "import tensorflow_datasets as tfds\n",
        "import matplotlib.pyplot as plt\n",
        "import numpy as np"
      ],
      "execution_count": 0,
      "outputs": []
    },
    {
      "cell_type": "code",
      "metadata": {
        "id": "LWpzXvUbBczi",
        "colab_type": "code",
        "colab": {}
      },
      "source": [
        "ds_corrupted = tfds.load('mnist_corrupted/shot_noise', shuffle_files=False, split=tfds.Split.TRAIN)\n",
        "ds_identity = tfds.load('mnist_corrupted/identity', shuffle_files=False, split=tfds.Split.TRAIN)\n",
        "ds_corrupted = ds_corrupted.map(lambda x: x['image'])\n",
        "ds_identity = ds_identity.map(lambda x: x['image'])\n",
        "ds = tf.data.Dataset.zip((ds_corrupted, ds_identity))"
      ],
      "execution_count": 0,
      "outputs": []
    },
    {
      "cell_type": "code",
      "metadata": {
        "id": "xIB62e_wI20V",
        "colab_type": "code",
        "outputId": "20ee6fcb-fe77-4f49-ca06-c4f247f6c85b",
        "colab": {
          "base_uri": "https://localhost:8080/",
          "height": 205
        }
      },
      "source": [
        "BATCH_SIZE = 128\n",
        "\n",
        "for x,y in ds: break\n",
        "fig, axes = plt.subplots(1,2)\n",
        "axes[0].imshow(np.squeeze(x.numpy()), cmap='gray')\n",
        "axes[1].imshow(np.squeeze(y.numpy()), cmap='gray')\n",
        "ds = ds.batch(BATCH_SIZE).repeat()"
      ],
      "execution_count": 0,
      "outputs": [
        {
          "output_type": "display_data",
          "data": {
            "image/png": "[encoded data removed]",
            "text/plain": [
              "<Figure size 432x288 with 2 Axes>"
            ]
          },
          "metadata": {
            "tags": []
          }
        }
      ]
    },
    {
      "cell_type": "code",
      "metadata": {
        "id": "9_Us8aJ9JIcl",
        "colab_type": "code",
        "colab": {}
      },
      "source": [
        "inputs = tf.keras.layers.Input(shape=(28,28,1))\n",
        "x = tf.keras.layers.Flatten()(inputs)\n",
        "x = tf.keras.layers.Dense(784, activation='relu')(x)\n",
        "x = tf.keras.layers.Dense(784, activation='relu')(x)\n",
        "x = tf.keras.layers.Reshape((28, 28, 1))(x)\n",
        "model = tf.keras.Model(inputs, x)"
      ],
      "execution_count": 0,
      "outputs": []
    },
    {
      "cell_type": "code",
      "metadata": {
        "id": "_1P1ZLfVLtVV",
        "colab_type": "code",
        "colab": {}
      },
      "source": [
        "model.compile('adam', loss='mse')"
      ],
      "execution_count": 0,
      "outputs": []
    },
    {
      "cell_type": "code",
      "metadata": {
        "id": "uz4fo3H1NIG2",
        "colab_type": "code",
        "outputId": "5cf0d5ec-6781-4cd5-fece-79f83f81efb9",
        "colab": {
          "base_uri": "https://localhost:8080/",
          "height": 763
        }
      },
      "source": [
        "model.fit(ds, steps_per_epoch=50000//128, epochs=20)"
      ],
      "execution_count": 0,
      "outputs": [
        {
          "output_type": "stream",
          "text": [
            "Epoch 1/20\n",
            "390/390 [==============================] - 23s 60ms/step - loss: 562.6638\n",
            "Epoch 2/20\n",
            "390/390 [==============================] - 22s 57ms/step - loss: 560.8817\n",
            "Epoch 3/20\n",
            "390/390 [==============================] - 23s 58ms/step - loss: 562.3512\n",
            "Epoch 4/20\n",
            "390/390 [==============================] - 22s 58ms/step - loss: 561.5155\n",
            "Epoch 5/20\n",
            "390/390 [==============================] - 23s 59ms/step - loss: 561.0012\n",
            "Epoch 6/20\n",
            "390/390 [==============================] - 22s 58ms/step - loss: 559.5476\n",
            "Epoch 7/20\n",
            "390/390 [==============================] - 23s 58ms/step - loss: 556.1285\n",
            "Epoch 8/20\n",
            "390/390 [==============================] - 23s 59ms/step - loss: 553.7849\n",
            "Epoch 9/20\n",
            "390/390 [==============================] - 23s 58ms/step - loss: 554.5665\n",
            "Epoch 10/20\n",
            "390/390 [==============================] - 23s 58ms/step - loss: 553.7455\n",
            "Epoch 11/20\n",
            "390/390 [==============================] - 23s 59ms/step - loss: 552.8558\n",
            "Epoch 12/20\n",
            "390/390 [==============================] - 22s 57ms/step - loss: 551.6620\n",
            "Epoch 13/20\n",
            "390/390 [==============================] - 22s 58ms/step - loss: 550.8628\n",
            "Epoch 14/20\n",
            "390/390 [==============================] - 23s 59ms/step - loss: 547.9691\n",
            "Epoch 15/20\n",
            "390/390 [==============================] - 23s 58ms/step - loss: 548.3131\n",
            "Epoch 16/20\n",
            "390/390 [==============================] - 23s 59ms/step - loss: 546.5309\n",
            "Epoch 17/20\n",
            "390/390 [==============================] - 23s 59ms/step - loss: 541.9039\n",
            "Epoch 18/20\n",
            "390/390 [==============================] - 23s 59ms/step - loss: 541.0033\n",
            "Epoch 19/20\n",
            "390/390 [==============================] - 23s 58ms/step - loss: 540.3523\n",
            "Epoch 20/20\n",
            "390/390 [==============================] - 23s 59ms/step - loss: 537.9391\n"
          ],
          "name": "stdout"
        },
        {
          "output_type": "execute_result",
          "data": {
            "text/plain": [
              "<tensorflow.python.keras.callbacks.History at 0x7fda3be1ce80>"
            ]
          },
          "metadata": {
            "tags": []
          },
          "execution_count": 47
        }
      ]
    },
    {
      "cell_type": "code",
      "metadata": {
        "id": "rE__LA4GXrEM",
        "colab_type": "code",
        "outputId": "6d55a08e-9988-4c1f-f7a0-b9bd0cb10697",
        "colab": {
          "base_uri": "https://localhost:8080/",
          "height": 287
        }
      },
      "source": [
        "for x,y in ds: break\n",
        "fig, axes = plt.subplots(1,3)\n",
        "axes[0].imshow(np.squeeze(x.numpy()), cmap='gray')\n",
        "axes[1].imshow(np.squeeze(y.numpy()), cmap='gray')\n",
        "axes[2].imshow(np.squeeze(model.predict(x.numpy()[0:1])), cmap='gray')\n"
      ],
      "execution_count": 0,
      "outputs": [
        {
          "output_type": "execute_result",
          "data": {
            "text/plain": [
              "<matplotlib.image.AxesImage at 0x7fda3557f908>"
            ]
          },
          "metadata": {
            "tags": []
          },
          "execution_count": 48
        },
        {
          "output_type": "display_data",
          "data": {
            "image/png": "[encoded data removed]",
            "text/plain": [
              "<Figure size 432x288 with 1 Axes>"
            ]
          },
          "metadata": {
            "tags": []
          }
        }
      ]
    }
  ]
}