{
  "nbformat": 4,
  "nbformat_minor": 0,
  "metadata": {
    "colab": {
      "name": "Yihang  Yuqin Dataset.ipynb",
      "provenance": [],
      "include_colab_link": true
    },
    "kernelspec": {
      "name": "python3",
      "display_name": "Python 3"
    },
    "accelerator": "GPU"
  },
  "cells": [
    {
      "cell_type": "markdown",
      "metadata": {
        "id": "view-in-github",
        "colab_type": "text"
      },
      "source": [
        "<a href=\"https://colab.research.google.com/github/drwitt/BME_590_Tensorflow_Deep_Learning/blob/master/Danny_Viggy_Conner_test.ipynb\" target=\"_parent\"><img src=\"https://colab.research.google.com/assets/colab-badge.svg\" alt=\"Open In Colab\"/></a>"
      ]
    },
    {
      "cell_type": "code",
      "metadata": {
        "id": "srgOIO1LE_mP",
        "colab_type": "code",
        "outputId": "a2312148-9f00-45a9-ab3c-e74798e35f2e",
        "colab": {
          "base_uri": "https://localhost:8080/",
          "height": 476
        }
      },
      "source": [
        "!git clone git@github.com:drwitt/datasets.git\n",
        "!pip3 install tensorflow-datasets "
      ],
      "execution_count": 11,
      "outputs": [
        {
          "output_type": "stream",
          "text": [
            "Cloning into 'datasets'...\n",
            "Host key verification failed.\n",
            "fatal: Could not read from remote repository.\n",
            "\n",
            "Please make sure you have the correct access rights\n",
            "and the repository exists.\n",
            "Requirement already satisfied: tensorflow-datasets in /usr/local/lib/python3.6/dist-packages (1.2.0)\n",
            "Requirement already satisfied: tqdm in /usr/local/lib/python3.6/dist-packages (from tensorflow-datasets) (4.28.1)\n",
            "Requirement already satisfied: tensorflow-metadata in /usr/local/lib/python3.6/dist-packages (from tensorflow-datasets) (0.14.0)\n",
            "Requirement already satisfied: attrs in /usr/local/lib/python3.6/dist-packages (from tensorflow-datasets) (19.1.0)\n",
            "Requirement already satisfied: promise in /usr/local/lib/python3.6/dist-packages (from tensorflow-datasets) (2.2.1)\n",
            "Requirement already satisfied: dill in /usr/local/lib/python3.6/dist-packages (from tensorflow-datasets) (0.3.0)\n",
            "Requirement already satisfied: six in /usr/local/lib/python3.6/dist-packages (from tensorflow-datasets) (1.12.0)\n",
            "Requirement already satisfied: numpy in /usr/local/lib/python3.6/dist-packages (from tensorflow-datasets) (1.16.5)\n",
            "Requirement already satisfied: future in /usr/local/lib/python3.6/dist-packages (from tensorflow-datasets) (0.16.0)\n",
            "Requirement already satisfied: psutil in /usr/local/lib/python3.6/dist-packages (from tensorflow-datasets) (5.4.8)\n",
            "Requirement already satisfied: wrapt in /usr/local/lib/python3.6/dist-packages (from tensorflow-datasets) (1.11.2)\n",
            "Requirement already satisfied: absl-py in /usr/local/lib/python3.6/dist-packages (from tensorflow-datasets) (0.8.0)\n",
            "Requirement already satisfied: protobuf>=3.6.1 in /usr/local/lib/python3.6/dist-packages (from tensorflow-datasets) (3.7.1)\n",
            "Requirement already satisfied: requests>=2.19.0 in /usr/local/lib/python3.6/dist-packages (from tensorflow-datasets) (2.21.0)\n",
            "Requirement already satisfied: termcolor in /usr/local/lib/python3.6/dist-packages (from tensorflow-datasets) (1.1.0)\n",
            "Requirement already satisfied: googleapis-common-protos in /usr/local/lib/python3.6/dist-packages (from tensorflow-metadata->tensorflow-datasets) (1.6.0)\n",
            "Requirement already satisfied: setuptools in /usr/local/lib/python3.6/dist-packages (from protobuf>=3.6.1->tensorflow-datasets) (41.2.0)\n",
            "Requirement already satisfied: chardet<3.1.0,>=3.0.2 in /usr/local/lib/python3.6/dist-packages (from requests>=2.19.0->tensorflow-datasets) (3.0.4)\n",
            "Requirement already satisfied: certifi>=2017.4.17 in /usr/local/lib/python3.6/dist-packages (from requests>=2.19.0->tensorflow-datasets) (2019.6.16)\n",
            "Requirement already satisfied: urllib3<1.25,>=1.21.1 in /usr/local/lib/python3.6/dist-packages (from requests>=2.19.0->tensorflow-datasets) (1.24.3)\n",
            "Requirement already satisfied: idna<2.9,>=2.5 in /usr/local/lib/python3.6/dist-packages (from requests>=2.19.0->tensorflow-datasets) (2.8)\n"
          ],
          "name": "stdout"
        }
      ]
    },
    {
      "cell_type": "code",
      "metadata": {
        "id": "nCoxwc5bVVyJ",
        "colab_type": "code",
        "outputId": "1b9c4c4f-29a2-4fb0-e57d-3266cd1132df",
        "colab": {
          "base_uri": "https://localhost:8080/",
          "height": 34
        }
      },
      "source": [
        "%cd datasets"
      ],
      "execution_count": 10,
      "outputs": [
        {
          "output_type": "stream",
          "text": [
            "\u001b[0m\u001b[01;34msample_data\u001b[0m/\n"
          ],
          "name": "stdout"
        }
      ]
    },
    {
      "cell_type": "code",
      "metadata": {
        "id": "RSmU5jqUHugl",
        "colab_type": "code",
        "outputId": "a1430e4c-8f10-4e28-83fe-ae4cd4df2902",
        "colab": {
          "base_uri": "https://localhost:8080/",
          "height": 153
        }
      },
      "source": [
        "import tensorflow_datasets as tfds\n",
        "import tensorflow as tf\n",
        "tf.enable_eager_execution()"
      ],
      "execution_count": 3,
      "outputs": [
        {
          "output_type": "stream",
          "text": [
            "WARNING:tensorflow:\n",
            "The TensorFlow contrib module will not be included in TensorFlow 2.0.\n",
            "For more information, please see:\n",
            "  * https://github.com/tensorflow/community/blob/master/rfcs/20180907-contrib-sunset.md\n",
            "  * https://github.com/tensorflow/addons\n",
            "  * https://github.com/tensorflow/io (for I/O related ops)\n",
            "If you depend on functionality not listed there, please file an issue.\n",
            "\n"
          ],
          "name": "stdout"
        }
      ]
    },
    {
      "cell_type": "code",
      "metadata": {
        "id": "fj2v6RWzHx3b",
        "colab_type": "code",
        "colab": {
          "base_uri": "https://localhost:8080/",
          "height": 1000
        },
        "outputId": "e90de19b-0d48-4483-ddf5-5cf86ac9c6e1"
      },
      "source": [
        "directory = '/Users/dannywitt/Desktop/MIDS/MIDS_YR2/BME_590_DL_Tensorflow/Open_Source_Assignment/singlecoil/'\n",
        "\n",
        "dl_config = tfds.download.DownloadConfig(manual_dir=directory)\n",
        "tfds.load(\n",
        "      'fastmri',\n",
        "      builder_kwargs=dict(config = 'singlecoil'),\n",
        "      download_and_prepare_kwargs=dict(download_config=dl_config),\n",
        "  )\n",
        "# builder = tfds.image.fastmri.FastMRI(config='singlecoil')\n",
        "# dl_config = tfds.download.DownloadConfig(manual_dir=directory)\n",
        "# builder.download_and_prepare(download_config=dl_config)\n",
        "# print(builder.info)  # Splits, num examples,... automatically extracted\n",
        "# ds = builder.as_dataset(split='train')"
      ],
      "execution_count": 7,
      "outputs": [
        {
          "output_type": "error",
          "ename": "DatasetNotFoundError",
          "evalue": "ignored",
          "traceback": [
            "\u001b[0;31m---------------------------------------------------------------------------\u001b[0m",
            "\u001b[0;31mDatasetNotFoundError\u001b[0m                      Traceback (most recent call last)",
            "\u001b[0;32m<ipython-input-7-a41810bf7874>\u001b[0m in \u001b[0;36m<module>\u001b[0;34m()\u001b[0m\n\u001b[1;32m      5\u001b[0m       \u001b[0;34m'fastmri'\u001b[0m\u001b[0;34m,\u001b[0m\u001b[0;34m\u001b[0m\u001b[0;34m\u001b[0m\u001b[0m\n\u001b[1;32m      6\u001b[0m       \u001b[0mbuilder_kwargs\u001b[0m\u001b[0;34m=\u001b[0m\u001b[0mdict\u001b[0m\u001b[0;34m(\u001b[0m\u001b[0mconfig\u001b[0m \u001b[0;34m=\u001b[0m \u001b[0;34m'singlecoil'\u001b[0m\u001b[0;34m)\u001b[0m\u001b[0;34m,\u001b[0m\u001b[0;34m\u001b[0m\u001b[0;34m\u001b[0m\u001b[0m\n\u001b[0;32m----> 7\u001b[0;31m       \u001b[0mdownload_and_prepare_kwargs\u001b[0m\u001b[0;34m=\u001b[0m\u001b[0mdict\u001b[0m\u001b[0;34m(\u001b[0m\u001b[0mdownload_config\u001b[0m\u001b[0;34m=\u001b[0m\u001b[0mdl_config\u001b[0m\u001b[0;34m)\u001b[0m\u001b[0;34m,\u001b[0m\u001b[0;34m\u001b[0m\u001b[0;34m\u001b[0m\u001b[0m\n\u001b[0m\u001b[1;32m      8\u001b[0m   )\n\u001b[1;32m      9\u001b[0m \u001b[0;31m# builder = tfds.image.fastmri.FastMRI(config='singlecoil')\u001b[0m\u001b[0;34m\u001b[0m\u001b[0;34m\u001b[0m\u001b[0;34m\u001b[0m\u001b[0m\n",
            "\u001b[0;32m/usr/local/lib/python3.6/dist-packages/tensorflow_datasets/core/api_utils.py\u001b[0m in \u001b[0;36mdisallow_positional_args_dec\u001b[0;34m(fn, instance, args, kwargs)\u001b[0m\n\u001b[1;32m     50\u001b[0m     \u001b[0m_check_no_positional\u001b[0m\u001b[0;34m(\u001b[0m\u001b[0mfn\u001b[0m\u001b[0;34m,\u001b[0m \u001b[0margs\u001b[0m\u001b[0;34m,\u001b[0m \u001b[0mismethod\u001b[0m\u001b[0;34m,\u001b[0m \u001b[0mallowed\u001b[0m\u001b[0;34m=\u001b[0m\u001b[0mallowed\u001b[0m\u001b[0;34m)\u001b[0m\u001b[0;34m\u001b[0m\u001b[0;34m\u001b[0m\u001b[0m\n\u001b[1;32m     51\u001b[0m     \u001b[0m_check_required\u001b[0m\u001b[0;34m(\u001b[0m\u001b[0mfn\u001b[0m\u001b[0;34m,\u001b[0m \u001b[0mkwargs\u001b[0m\u001b[0;34m)\u001b[0m\u001b[0;34m\u001b[0m\u001b[0;34m\u001b[0m\u001b[0m\n\u001b[0;32m---> 52\u001b[0;31m     \u001b[0;32mreturn\u001b[0m \u001b[0mfn\u001b[0m\u001b[0;34m(\u001b[0m\u001b[0;34m*\u001b[0m\u001b[0margs\u001b[0m\u001b[0;34m,\u001b[0m \u001b[0;34m**\u001b[0m\u001b[0mkwargs\u001b[0m\u001b[0;34m)\u001b[0m\u001b[0;34m\u001b[0m\u001b[0;34m\u001b[0m\u001b[0m\n\u001b[0m\u001b[1;32m     53\u001b[0m \u001b[0;34m\u001b[0m\u001b[0m\n\u001b[1;32m     54\u001b[0m   \u001b[0;32mreturn\u001b[0m \u001b[0mdisallow_positional_args_dec\u001b[0m\u001b[0;34m(\u001b[0m\u001b[0mwrapped\u001b[0m\u001b[0;34m)\u001b[0m  \u001b[0;31m# pylint: disable=no-value-for-parameter\u001b[0m\u001b[0;34m\u001b[0m\u001b[0;34m\u001b[0m\u001b[0m\n",
            "\u001b[0;32m/usr/local/lib/python3.6/dist-packages/tensorflow_datasets/core/registered.py\u001b[0m in \u001b[0;36mload\u001b[0;34m(name, split, data_dir, batch_size, in_memory, shuffle_files, download, as_supervised, decoders, with_info, builder_kwargs, download_and_prepare_kwargs, as_dataset_kwargs, try_gcs)\u001b[0m\n\u001b[1;32m    295\u001b[0m     \u001b[0mdata_dir\u001b[0m \u001b[0;34m=\u001b[0m \u001b[0mconstants\u001b[0m\u001b[0;34m.\u001b[0m\u001b[0mDATA_DIR\u001b[0m\u001b[0;34m\u001b[0m\u001b[0;34m\u001b[0m\u001b[0m\n\u001b[1;32m    296\u001b[0m \u001b[0;34m\u001b[0m\u001b[0m\n\u001b[0;32m--> 297\u001b[0;31m   \u001b[0mdbuilder\u001b[0m \u001b[0;34m=\u001b[0m \u001b[0mbuilder\u001b[0m\u001b[0;34m(\u001b[0m\u001b[0mname\u001b[0m\u001b[0;34m,\u001b[0m \u001b[0mdata_dir\u001b[0m\u001b[0;34m=\u001b[0m\u001b[0mdata_dir\u001b[0m\u001b[0;34m,\u001b[0m \u001b[0;34m**\u001b[0m\u001b[0mbuilder_kwargs\u001b[0m\u001b[0;34m)\u001b[0m\u001b[0;34m\u001b[0m\u001b[0;34m\u001b[0m\u001b[0m\n\u001b[0m\u001b[1;32m    298\u001b[0m   \u001b[0;32mif\u001b[0m \u001b[0mdownload\u001b[0m\u001b[0;34m:\u001b[0m\u001b[0;34m\u001b[0m\u001b[0;34m\u001b[0m\u001b[0m\n\u001b[1;32m    299\u001b[0m     \u001b[0mdownload_and_prepare_kwargs\u001b[0m \u001b[0;34m=\u001b[0m \u001b[0mdownload_and_prepare_kwargs\u001b[0m \u001b[0;32mor\u001b[0m \u001b[0;34m{\u001b[0m\u001b[0;34m}\u001b[0m\u001b[0;34m\u001b[0m\u001b[0;34m\u001b[0m\u001b[0m\n",
            "\u001b[0;32m/usr/local/lib/python3.6/dist-packages/tensorflow_datasets/core/registered.py\u001b[0m in \u001b[0;36mbuilder\u001b[0;34m(name, **builder_init_kwargs)\u001b[0m\n\u001b[1;32m    165\u001b[0m     \u001b[0;32mraise\u001b[0m \u001b[0mDatasetNotFoundError\u001b[0m\u001b[0;34m(\u001b[0m\u001b[0mname\u001b[0m\u001b[0;34m,\u001b[0m \u001b[0min_development\u001b[0m\u001b[0;34m=\u001b[0m\u001b[0;32mTrue\u001b[0m\u001b[0;34m)\u001b[0m\u001b[0;34m\u001b[0m\u001b[0;34m\u001b[0m\u001b[0m\n\u001b[1;32m    166\u001b[0m   \u001b[0;32mif\u001b[0m \u001b[0mname\u001b[0m \u001b[0;32mnot\u001b[0m \u001b[0;32min\u001b[0m \u001b[0m_DATASET_REGISTRY\u001b[0m\u001b[0;34m:\u001b[0m\u001b[0;34m\u001b[0m\u001b[0;34m\u001b[0m\u001b[0m\n\u001b[0;32m--> 167\u001b[0;31m     \u001b[0;32mraise\u001b[0m \u001b[0mDatasetNotFoundError\u001b[0m\u001b[0;34m(\u001b[0m\u001b[0mname\u001b[0m\u001b[0;34m)\u001b[0m\u001b[0;34m\u001b[0m\u001b[0;34m\u001b[0m\u001b[0m\n\u001b[0m\u001b[1;32m    168\u001b[0m   \u001b[0;32mtry\u001b[0m\u001b[0;34m:\u001b[0m\u001b[0;34m\u001b[0m\u001b[0;34m\u001b[0m\u001b[0m\n\u001b[1;32m    169\u001b[0m     \u001b[0;32mreturn\u001b[0m \u001b[0m_DATASET_REGISTRY\u001b[0m\u001b[0;34m[\u001b[0m\u001b[0mname\u001b[0m\u001b[0;34m]\u001b[0m\u001b[0;34m(\u001b[0m\u001b[0;34m**\u001b[0m\u001b[0mbuilder_kwargs\u001b[0m\u001b[0;34m)\u001b[0m\u001b[0;34m\u001b[0m\u001b[0;34m\u001b[0m\u001b[0m\n",
            "\u001b[0;31mDatasetNotFoundError\u001b[0m: Dataset fastmri not found. Available datasets:\n\t- abstract_reasoning\n\t- aflw2k3d\n\t- amazon_us_reviews\n\t- bair_robot_pushing_small\n\t- bigearthnet\n\t- binarized_mnist\n\t- binary_alpha_digits\n\t- caltech101\n\t- caltech_birds2010\n\t- caltech_birds2011\n\t- cats_vs_dogs\n\t- celeb_a\n\t- celeb_a_hq\n\t- chexpert\n\t- cifar10\n\t- cifar100\n\t- cifar10_corrupted\n\t- clevr\n\t- cnn_dailymail\n\t- coco\n\t- coco2014\n\t- coil100\n\t- colorectal_histology\n\t- colorectal_histology_large\n\t- curated_breast_imaging_ddsm\n\t- cycle_gan\n\t- deep_weeds\n\t- definite_pronoun_resolution\n\t- diabetic_retinopathy_detection\n\t- downsampled_imagenet\n\t- dsprites\n\t- dtd\n\t- dummy_dataset_shared_generator\n\t- dummy_mnist\n\t- emnist\n\t- eurosat\n\t- fashion_mnist\n\t- flores\n\t- food101\n\t- gap\n\t- glue\n\t- groove\n\t- higgs\n\t- horses_or_humans\n\t- image_label_folder\n\t- imagenet2012\n\t- imagenet2012_corrupted\n\t- imdb_reviews\n\t- iris\n\t- kitti\n\t- kmnist\n\t- lfw\n\t- lm1b\n\t- lsun\n\t- mnist\n\t- mnist_corrupted\n\t- moving_mnist\n\t- multi_nli\n\t- nsynth\n\t- omniglot\n\t- open_images_v4\n\t- oxford_flowers102\n\t- oxford_iiit_pet\n\t- para_crawl\n\t- patch_camelyon\n\t- pet_finder\n\t- quickdraw_bitmap\n\t- resisc45\n\t- rock_paper_scissors\n\t- rock_you\n\t- scene_parse150\n\t- shapes3d\n\t- smallnorb\n\t- snli\n\t- so2sat\n\t- squad\n\t- stanford_dogs\n\t- stanford_online_products\n\t- starcraft_video\n\t- sun397\n\t- super_glue\n\t- svhn_cropped\n\t- ted_hrlr_translate\n\t- ted_multi_translate\n\t- tf_flowers\n\t- titanic\n\t- trivia_qa\n\t- uc_merced\n\t- ucf101\n\t- visual_domain_decathlon\n\t- voc2007\n\t- wikipedia\n\t- wmt14_translate\n\t- wmt15_translate\n\t- wmt16_translate\n\t- wmt17_translate\n\t- wmt18_translate\n\t- wmt19_translate\n\t- wmt_t2t_translate\n\t- wmt_translate\n\t- xnli\nCheck that:\n    - the dataset name is spelled correctly\n    - dataset class defines all base class abstract methods\n    - dataset class is not in development, i.e. if IN_DEVELOPMENT=True\n    - the module defining the dataset class is imported\n"
          ]
        }
      ]
    },
    {
      "cell_type": "code",
      "metadata": {
        "id": "-Yg5U2rObYnc",
        "colab_type": "code",
        "colab": {}
      },
      "source": [
        "for ele in ds['train']: break"
      ],
      "execution_count": 0,
      "outputs": []
    },
    {
      "cell_type": "code",
      "metadata": {
        "id": "PhTNUha-bdLb",
        "colab_type": "code",
        "outputId": "91175c10-523a-4c4f-9990-1f30d318c0f8",
        "colab": {
          "base_uri": "https://localhost:8080/",
          "height": 286
        }
      },
      "source": [
        "import matplotlib.pyplot as plt\n",
        "\n",
        "plt.imshow(ele['image'])"
      ],
      "execution_count": 0,
      "outputs": [
        {
          "output_type": "execute_result",
          "data": {
            "text/plain": [
              "<matplotlib.image.AxesImage at 0x7feb2c42b048>"
            ]
          },
          "metadata": {
            "tags": []
          },
          "execution_count": 7
        },
        {
          "output_type": "display_data",
          "data": {
            "image/png": "[encoded data removed]",
            "text/plain": [
              "<Figure size 432x288 with 1 Axes>"
            ]
          },
          "metadata": {
            "tags": []
          }
        }
      ]
    },
    {
      "cell_type": "code",
      "metadata": {
        "id": "R6jCm7xMbxmu",
        "colab_type": "code",
        "outputId": "94f16325-2e12-4229-ab2b-b13d360251c4",
        "colab": {
          "base_uri": "https://localhost:8080/",
          "height": 34
        }
      },
      "source": [
        "print(ele['label'])"
      ],
      "execution_count": 0,
      "outputs": [
        {
          "output_type": "stream",
          "text": [
            "tf.Tensor(1, shape=(), dtype=int64)\n"
          ],
          "name": "stdout"
        }
      ]
    },
    {
      "cell_type": "code",
      "metadata": {
        "id": "93rsJnI-cnzP",
        "colab_type": "code",
        "outputId": "d1dd65d4-bd2e-4710-97e4-ed9b35b60854",
        "colab": {
          "base_uri": "https://localhost:8080/",
          "height": 34
        }
      },
      "source": [
        "%%writefile tensorflow_datasets/image/B_All_White_Blood_Cancer_Microscopic_Image_test.py\n",
        "\n",
        "from __future__ import absolute_import\n",
        "from __future__ import division\n",
        "from __future__ import print_function\n",
        "\n",
        "from tensorflow_datasets import testing\n",
        "from tensorflow_datasets.image \\\n",
        "    import B_All_White_Blood_Cancer_Microscopic_Image\n",
        "\n",
        "\n",
        "class BAllWhiteBloodCancerMicroscopicImageTest(testing.DatasetBuilderTestCase):\n",
        "\n",
        "    DATASET_CLASS = B_All_White_Blood_Cancer_Microscopic_Image.\\\n",
        "                                        BAllWhiteBloodCancerMicroscopicImage\n",
        "    SPLITS = {\n",
        "        'train': 2\n",
        "    }\n",
        "\n",
        "if __name__ == \"__main__\":\n",
        "    testing.test_main()\n"
      ],
      "execution_count": 0,
      "outputs": [
        {
          "output_type": "stream",
          "text": [
            "Overwriting tensorflow_datasets/image/B_All_White_Blood_Cancer_Microscopic_Image_test.py\n"
          ],
          "name": "stdout"
        }
      ]
    },
    {
      "cell_type": "code",
      "metadata": {
        "id": "Ch0Su8h-c-2z",
        "colab_type": "code",
        "outputId": "94ee1ea8-9d31-4f77-d9ed-aaef731df840",
        "colab": {
          "base_uri": "https://localhost:8080/",
          "height": 1000
        }
      },
      "source": [
        "!python3 -m tensorflow_datasets.image.B_All_White_Blood_Cancer_Microscopic_Image_test"
      ],
      "execution_count": 0,
      "outputs": [
        {
          "output_type": "stream",
          "text": [
            "WARNING:tensorflow:\n",
            "The TensorFlow contrib module will not be included in TensorFlow 2.0.\n",
            "For more information, please see:\n",
            "  * https://github.com/tensorflow/community/blob/master/rfcs/20180907-contrib-sunset.md\n",
            "  * https://github.com/tensorflow/addons\n",
            "  * https://github.com/tensorflow/io (for I/O related ops)\n",
            "If you depend on functionality not listed there, please file an issue.\n",
            "\n",
            "Running tests under Python 3.6.8: /usr/bin/python3\n",
            "[ RUN      ] BAllWhiteBloodCancerMicroscopicImageTest.test_baseclass\n",
            "I0927 20:40:22.918889 140342531233664 dataset_builder.py:187] Load pre-computed datasetinfo (eg: splits) from bucket.\n",
            "[  FAILED  ] BAllWhiteBloodCancerMicroscopicImageTest.test_baseclass\n",
            "[ RUN      ] BAllWhiteBloodCancerMicroscopicImageTest.test_download_and_prepare_as_dataset\n",
            "I0927 20:40:22.920383 140342531233664 dataset_builder.py:187] Load pre-computed datasetinfo (eg: splits) from bucket.\n",
            "[  FAILED  ] BAllWhiteBloodCancerMicroscopicImageTest.test_download_and_prepare_as_dataset\n",
            "[ RUN      ] BAllWhiteBloodCancerMicroscopicImageTest.test_info\n",
            "I0927 20:40:22.921386 140342531233664 dataset_builder.py:187] Load pre-computed datasetinfo (eg: splits) from bucket.\n",
            "[  FAILED  ] BAllWhiteBloodCancerMicroscopicImageTest.test_info\n",
            "[ RUN      ] BAllWhiteBloodCancerMicroscopicImageTest.test_registered\n",
            "I0927 20:40:22.922296 140342531233664 dataset_builder.py:187] Load pre-computed datasetinfo (eg: splits) from bucket.\n",
            "[  FAILED  ] BAllWhiteBloodCancerMicroscopicImageTest.test_registered\n",
            "[ RUN      ] BAllWhiteBloodCancerMicroscopicImageTest.test_session\n",
            "[  SKIPPED ] BAllWhiteBloodCancerMicroscopicImageTest.test_session\n",
            "======================================================================\n",
            "ERROR: test_baseclass (__main__.BAllWhiteBloodCancerMicroscopicImageTest)\n",
            "test_baseclass (__main__.BAllWhiteBloodCancerMicroscopicImageTest)\n",
            "----------------------------------------------------------------------\n",
            "Traceback (most recent call last):\n",
            "  File \"/content/datasets/tensorflow_datasets/testing/dataset_builder_testing.py\", line 154, in setUp\n",
            "    raise ValueError(err_msg)\n",
            "ValueError: fake_examples dir /content/datasets/tensorflow_datasets/testing/test_data/fake_examples/b_all_white_blood_cancer_microscopic_image not found.\n",
            "\n",
            "======================================================================\n",
            "ERROR: test_download_and_prepare_as_dataset (__main__.BAllWhiteBloodCancerMicroscopicImageTest)\n",
            "test_download_and_prepare_as_dataset (__main__.BAllWhiteBloodCancerMicroscopicImageTest)\n",
            "Run the decorated test method.\n",
            "----------------------------------------------------------------------\n",
            "Traceback (most recent call last):\n",
            "  File \"/content/datasets/tensorflow_datasets/testing/dataset_builder_testing.py\", line 154, in setUp\n",
            "    raise ValueError(err_msg)\n",
            "ValueError: fake_examples dir /content/datasets/tensorflow_datasets/testing/test_data/fake_examples/b_all_white_blood_cancer_microscopic_image not found.\n",
            "\n",
            "======================================================================\n",
            "ERROR: test_info (__main__.BAllWhiteBloodCancerMicroscopicImageTest)\n",
            "test_info (__main__.BAllWhiteBloodCancerMicroscopicImageTest)\n",
            "----------------------------------------------------------------------\n",
            "Traceback (most recent call last):\n",
            "  File \"/content/datasets/tensorflow_datasets/testing/dataset_builder_testing.py\", line 154, in setUp\n",
            "    raise ValueError(err_msg)\n",
            "ValueError: fake_examples dir /content/datasets/tensorflow_datasets/testing/test_data/fake_examples/b_all_white_blood_cancer_microscopic_image not found.\n",
            "\n",
            "======================================================================\n",
            "ERROR: test_registered (__main__.BAllWhiteBloodCancerMicroscopicImageTest)\n",
            "test_registered (__main__.BAllWhiteBloodCancerMicroscopicImageTest)\n",
            "----------------------------------------------------------------------\n",
            "Traceback (most recent call last):\n",
            "  File \"/content/datasets/tensorflow_datasets/testing/dataset_builder_testing.py\", line 154, in setUp\n",
            "    raise ValueError(err_msg)\n",
            "ValueError: fake_examples dir /content/datasets/tensorflow_datasets/testing/test_data/fake_examples/b_all_white_blood_cancer_microscopic_image not found.\n",
            "\n",
            "----------------------------------------------------------------------\n",
            "Ran 5 tests in 0.229s\n",
            "\n",
            "FAILED (errors=4, skipped=1)\n"
          ],
          "name": "stdout"
        }
      ]
    }
  ]
}