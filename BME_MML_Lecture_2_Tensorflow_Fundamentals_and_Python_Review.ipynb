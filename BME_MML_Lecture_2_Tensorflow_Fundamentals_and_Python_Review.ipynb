{
  "nbformat": 4,
  "nbformat_minor": 0,
  "metadata": {
    "colab": {
      "name": "BME MML Lecture 2: Tensorflow Fundamentals and Python Review.ipynb",
      "version": "0.3.2",
      "provenance": [],
      "collapsed_sections": [],
      "include_colab_link": true
    },
    "kernelspec": {
      "name": "python3",
      "display_name": "Python 3"
    },
    "accelerator": "GPU"
  },
  "cells": [
    {
      "cell_type": "markdown",
      "metadata": {
        "id": "view-in-github",
        "colab_type": "text"
      },
      "source": [
        "<a href=\"https://colab.research.google.com/github/drwitt/BME_590_Tensorflow_Deep_Learning/blob/master/BME_MML_Lecture_2_Tensorflow_Fundamentals_and_Python_Review.ipynb\" target=\"_parent\"><img src=\"https://colab.research.google.com/assets/colab-badge.svg\" alt=\"Open In Colab\"/></a>"
      ]
    },
    {
      "cell_type": "markdown",
      "metadata": {
        "id": "ZvrZXxHkO5SF",
        "colab_type": "text"
      },
      "source": [
        "# Download Dependencies"
      ]
    },
    {
      "cell_type": "code",
      "metadata": {
        "id": "R9a8JhMSooax",
        "colab_type": "code",
        "colab": {}
      },
      "source": [
        "!pip3 install tensorflow_datasets\n",
        "!pip3 install tensorflow-gpu==2.0.0-rc0\n",
        "\n",
        "%load_ext tensorboard\n",
        "\n",
        "!nvidia-smi"
      ],
      "execution_count": 0,
      "outputs": []
    },
    {
      "cell_type": "code",
      "metadata": {
        "id": "LsUBKBtFJ0uA",
        "colab_type": "code",
        "colab": {}
      },
      "source": [
        ""
      ],
      "execution_count": 0,
      "outputs": []
    },
    {
      "cell_type": "markdown",
      "metadata": {
        "id": "AJUFhAryPryj",
        "colab_type": "text"
      },
      "source": [
        "# Review decorators and with blocks"
      ]
    },
    {
      "cell_type": "code",
      "metadata": {
        "id": "Rhm_rC2_PrYc",
        "colab_type": "code",
        "colab": {}
      },
      "source": [
        "class controlled_execution:\n",
        "    def __enter__(self):\n",
        "        print('setting things up (such as opening a file)')\n",
        "    def __exit__(self, type, value, traceback): # What are the __underscores__ for?\n",
        "        print(value)\n",
        "        print(traceback)\n",
        "        print(type)\n",
        "        print('removing things (such as closing a file)')\n",
        "\n",
        "with controlled_execution():\n",
        "  x = 1/0"
      ],
      "execution_count": 0,
      "outputs": []
    },
    {
      "cell_type": "code",
      "metadata": {
        "id": "cR8WwW1tQkIr",
        "colab_type": "code",
        "colab": {}
      },
      "source": [
        "def my_decorator(fn):\n",
        "  def function_wrapper(x):\n",
        "    print(\"Before calling \" + fn.__name__)\n",
        "    output = fn(x)\n",
        "    print(\"After calling \" + fn.__name__)\n",
        "    return output\n",
        "  return function_wrapper\n",
        "\n",
        "@my_decorator\n",
        "def my_fun(x):\n",
        "  return x+x\n",
        "\n",
        "a = my_fun(2)\n",
        "print(a)"
      ],
      "execution_count": 0,
      "outputs": []
    },
    {
      "cell_type": "markdown",
      "metadata": {
        "id": "hPbx9wC2O_jt",
        "colab_type": "text"
      },
      "source": [
        "# Explore `@tf.function`\n",
        "We will create the following graph in TensorFlow 2.0 using `@tf.function`\n",
        "\n",
        "![alt text](https://miro.medium.com/max/1917/1*RfSvkiVUHHWEe805Hf1HEw.png)"
      ]
    },
    {
      "cell_type": "code",
      "metadata": {
        "id": "d-sKfwRtEDY1",
        "colab_type": "code",
        "outputId": "c1fe642a-12bb-4ef9-b6c7-2efc64fce5c7",
        "colab": {
          "base_uri": "https://localhost:8080/",
          "height": 35
        }
      },
      "source": [
        "import tensorflow as tf\n",
        "\n",
        "@tf.function\n",
        "def my_func(my_input):\n",
        "    a = tf.square(my_input, name=\"A\")\n",
        "    b = tf.cos(a, name=\"B\")\n",
        "    c = tf.sin(a, name=\"C\")   \n",
        "    d = tf.add(b, c, name=\"D\")\n",
        "    e = tf.floor(b, name=\"E\")\n",
        "    f = tf.sqrt(d, name=\"F\")\n",
        "    return e,f\n",
        "\n",
        "# We use `tf.summary` to trace the graph as it is executing.\n",
        "tf.summary.trace_on(graph=True, profiler=False)\n",
        "print(my_func(2.0))\n",
        "with tf.summary.create_file_writer('./logs').as_default():   \n",
        "    tf.summary.trace_export(\n",
        "        name='tf2_graph',\n",
        "        step=0,\n",
        "        profiler_outdir='./logs/profiler'\n",
        "    )\n",
        "tf.summary.trace_off()"
      ],
      "execution_count": 0,
      "outputs": [
        {
          "output_type": "stream",
          "text": [
            "(<tf.Tensor: id=301, shape=(), dtype=float32, numpy=-1.0>, <tf.Tensor: id=302, shape=(), dtype=float32, numpy=nan>)\n"
          ],
          "name": "stdout"
        }
      ]
    },
    {
      "cell_type": "code",
      "metadata": {
        "id": "u2rI50GPMlES",
        "colab_type": "code",
        "colab": {}
      },
      "source": [
        "# We can also get an explicit tf.Graph using this with block\n",
        "graph = tf.Graph()\n",
        "with graph.as_default():\n",
        "  my_func(2.0)\n",
        "graph.as_graph_def()"
      ],
      "execution_count": 0,
      "outputs": []
    },
    {
      "cell_type": "code",
      "metadata": {
        "id": "9OSIJ_nvEu8c",
        "colab_type": "code",
        "outputId": "3d5421bd-a9db-4301-db2b-92f593f61b06",
        "colab": {
          "base_uri": "https://localhost:8080/",
          "height": 35
        }
      },
      "source": [
        "%tensorboard --logdir='./logs'"
      ],
      "execution_count": 0,
      "outputs": [
        {
          "output_type": "display_data",
          "data": {
            "text/plain": [
              "Reusing TensorBoard on port 6006 (pid 224), started 0:43:26 ago. (Use '!kill 224' to kill it.)"
            ]
          },
          "metadata": {
            "tags": []
          }
        },
        {
          "output_type": "display_data",
          "data": {
            "text/html": [
              "\n",
              "    <div id=\"root\"></div>\n",
              "    <script>\n",
              "      (function() {\n",
              "        window.TENSORBOARD_ENV = window.TENSORBOARD_ENV || {};\n",
              "        window.TENSORBOARD_ENV[\"IN_COLAB\"] = true;\n",
              "        document.querySelector(\"base\").href = \"https://localhost:6006\";\n",
              "        function fixUpTensorboard(root) {\n",
              "          const tftb = root.querySelector(\"tf-tensorboard\");\n",
              "          // Disable the fragment manipulation behavior in Colab. Not\n",
              "          // only is the behavior not useful (as the iframe's location\n",
              "          // is not visible to the user), it causes TensorBoard's usage\n",
              "          // of `window.replace` to navigate away from the page and to\n",
              "          // the `localhost:<port>` URL specified by the base URI, which\n",
              "          // in turn causes the frame to (likely) crash.\n",
              "          tftb.removeAttribute(\"use-hash\");\n",
              "        }\n",
              "        function executeAllScripts(root) {\n",
              "          // When `script` elements are inserted into the DOM by\n",
              "          // assigning to an element's `innerHTML`, the scripts are not\n",
              "          // executed. Thus, we manually re-insert these scripts so that\n",
              "          // TensorBoard can initialize itself.\n",
              "          for (const script of root.querySelectorAll(\"script\")) {\n",
              "            const newScript = document.createElement(\"script\");\n",
              "            newScript.type = script.type;\n",
              "            newScript.textContent = script.textContent;\n",
              "            root.appendChild(newScript);\n",
              "            script.remove();\n",
              "          }\n",
              "        }\n",
              "        function setHeight(root, height) {\n",
              "          // We set the height dynamically after the TensorBoard UI has\n",
              "          // been initialized. This avoids an intermediate state in\n",
              "          // which the container plus the UI become taller than the\n",
              "          // final width and cause the Colab output frame to be\n",
              "          // permanently resized, eventually leading to an empty\n",
              "          // vertical gap below the TensorBoard UI. It's not clear\n",
              "          // exactly what causes this problematic intermediate state,\n",
              "          // but setting the height late seems to fix it.\n",
              "          root.style.height = `${height}px`;\n",
              "        }\n",
              "        const root = document.getElementById(\"root\");\n",
              "        fetch(\".\")\n",
              "          .then((x) => x.text())\n",
              "          .then((html) => void (root.innerHTML = html))\n",
              "          .then(() => fixUpTensorboard(root))\n",
              "          .then(() => executeAllScripts(root))\n",
              "          .then(() => setHeight(root, 800));\n",
              "      })();\n",
              "    </script>\n",
              "  "
            ],
            "text/plain": [
              "<IPython.core.display.HTML object>"
            ]
          },
          "metadata": {
            "tags": []
          }
        }
      ]
    },
    {
      "cell_type": "code",
      "metadata": {
        "id": "451MJMoLUTyM",
        "colab_type": "code",
        "outputId": "8fee0d51-89a7-4878-a298-4dda4fe76273",
        "colab": {
          "base_uri": "https://localhost:8080/",
          "height": 126
        }
      },
      "source": [
        "# tf.Variable\n",
        "# @tf.function (what happens if we try this?)\n",
        "def f(const):\n",
        "    a = tf.constant([[10,10],[11.,1.]])\n",
        "    x = tf.constant([[1.,0.],[0.,1.]])\n",
        "    b = tf.Variable(12.) + const\n",
        "    y = tf.matmul(a, x) + b\n",
        "    print(\"PRINT: \", y)\n",
        "    return y\n",
        "\n",
        "f(100)"
      ],
      "execution_count": 0,
      "outputs": [
        {
          "output_type": "stream",
          "text": [
            "PRINT:  tf.Tensor(\n",
            "[[122. 122.]\n",
            " [123. 113.]], shape=(2, 2), dtype=float32)\n"
          ],
          "name": "stdout"
        },
        {
          "output_type": "execute_result",
          "data": {
            "text/plain": [
              "<tf.Tensor: id=438, shape=(2, 2), dtype=float32, numpy=\n",
              "array([[122., 122.],\n",
              "       [123., 113.]], dtype=float32)>"
            ]
          },
          "metadata": {
            "tags": []
          },
          "execution_count": 76
        }
      ]
    },
    {
      "cell_type": "code",
      "metadata": {
        "id": "rZ7kp-7iU2W_",
        "colab_type": "code",
        "outputId": "3abf3651-b644-4c6d-afaa-d50974c48cb9",
        "colab": {
          "base_uri": "https://localhost:8080/",
          "height": 145
        }
      },
      "source": [
        "# What is the difference between class and instance?\n",
        "\n",
        "class F:\n",
        "    def __init__(self):\n",
        "        self._b = None\n",
        "\n",
        "    @tf.function\n",
        "    def __call__(self, const):\n",
        "        a = tf.constant([[10, 10], [11., 1.]])\n",
        "        x = tf.constant([[1., 0.], [0., 1.]])\n",
        "        if self._b is None:\n",
        "            self._b = tf.Variable(12.)\n",
        "        self._b.assign(self._b + const)\n",
        "        y = tf.matmul(a, x) + self._b\n",
        "        print(\"PRINT: \", y)\n",
        "        tf.print(\"TF-PRINT: \", y)\n",
        "        return y\n",
        "\n",
        "f = F()\n",
        "f(100.)"
      ],
      "execution_count": 0,
      "outputs": [
        {
          "output_type": "stream",
          "text": [
            "PRINT:  Tensor(\"add_1:0\", shape=(2, 2), dtype=float32)\n",
            "PRINT:  Tensor(\"add_1:0\", shape=(2, 2), dtype=float32)\n",
            "TF-PRINT:  [[122 122]\n",
            " [123 113]]\n"
          ],
          "name": "stdout"
        },
        {
          "output_type": "execute_result",
          "data": {
            "text/plain": [
              "<tf.Tensor: id=623, shape=(2, 2), dtype=float32, numpy=\n",
              "array([[122., 122.],\n",
              "       [123., 113.]], dtype=float32)>"
            ]
          },
          "metadata": {
            "tags": []
          },
          "execution_count": 82
        }
      ]
    }
  ]
}